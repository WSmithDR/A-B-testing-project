{
  "cells": [
    {
      "cell_type": "markdown",
      "metadata": {
        "id": "ZAUT98qZI9ik"
      },
      "source": [
        "# Pruebas A/B de Marketing\n",
        "\n",
        "\n",
        "Campaña de marketing simple con grupo experimental y grupo de control para pruebas A/B [(Dataset de Kaggle)](https://www.kaggle.com/datasets/faviovaz/marketing-ab-testing/data).\n",
        "\n",
        "La mayoría de las personas estarán expuestas a anuncios (el grupo experimental). Y una pequeña porción de personas (el grupo de control) verían en su lugar un Anuncio de Servicio Público (PSA) (o nada) en el tamaño y lugar exactos donde normalmente estaría el anuncio.\n",
        "\n",
        "**Diccionario de datos:**\n",
        "\n",
        "- user id: ID de usuario (único)\n",
        "- test group: Si es \"ad\", la persona vio el anuncio, si es \"psa\", solo vio el anuncio de servicio público\n",
        "- converted: Si una persona compró el producto, entonces es True, de lo contrario es False\n",
        "- total ads: Cantidad de anuncios vistos por la persona\n",
        "- most ads day: Día en que la persona vio la mayor cantidad de anuncios\n",
        "- most ads hour: Hora del día en que la persona vio la mayor cantidad de anuncios"
      ]
    },
    {
      "cell_type": "code",
      "execution_count": null,
      "metadata": {
        "id": "3wTbut4qI9io"
      },
      "outputs": [],
      "source": [
        "import numpy as np\n",
        "import pandas as pd\n",
        "import scipy.stats as stats\n",
        "import matplotlib.pyplot as plt"
      ]
    },
    {
      "cell_type": "markdown",
      "metadata": {
        "id": "Lt2vJ3vTI9ip"
      },
      "source": [
        "## Check the data"
      ]
    },
    {
      "cell_type": "code",
      "execution_count": null,
      "metadata": {
        "id": "xXflG_ZZI9ip",
        "colab": {
          "base_uri": "https://localhost:8080/",
          "height": 226
        },
        "outputId": "c21cf156-2b83-4f03-b534-2ae1fb1537e8"
      },
      "outputs": [
        {
          "output_type": "execute_result",
          "data": {
            "text/plain": [
              "   user_id test_group  converted  total_ads most_ads_day  most_ads_hour\n",
              "0  1069124         ad      False        130       Monday             20\n",
              "1  1119715         ad      False         93      Tuesday             22\n",
              "2  1144181         ad      False         21      Tuesday             18\n",
              "3  1435133         ad      False        355      Tuesday             10\n",
              "4  1015700         ad      False        276       Friday             14"
            ],
            "text/html": [
              "\n",
              "  <div id=\"df-2c652e75-1470-454d-9471-ec52def031e3\" class=\"colab-df-container\">\n",
              "    <div>\n",
              "<style scoped>\n",
              "    .dataframe tbody tr th:only-of-type {\n",
              "        vertical-align: middle;\n",
              "    }\n",
              "\n",
              "    .dataframe tbody tr th {\n",
              "        vertical-align: top;\n",
              "    }\n",
              "\n",
              "    .dataframe thead th {\n",
              "        text-align: right;\n",
              "    }\n",
              "</style>\n",
              "<table border=\"1\" class=\"dataframe\">\n",
              "  <thead>\n",
              "    <tr style=\"text-align: right;\">\n",
              "      <th></th>\n",
              "      <th>user_id</th>\n",
              "      <th>test_group</th>\n",
              "      <th>converted</th>\n",
              "      <th>total_ads</th>\n",
              "      <th>most_ads_day</th>\n",
              "      <th>most_ads_hour</th>\n",
              "    </tr>\n",
              "  </thead>\n",
              "  <tbody>\n",
              "    <tr>\n",
              "      <th>0</th>\n",
              "      <td>1069124</td>\n",
              "      <td>ad</td>\n",
              "      <td>False</td>\n",
              "      <td>130</td>\n",
              "      <td>Monday</td>\n",
              "      <td>20</td>\n",
              "    </tr>\n",
              "    <tr>\n",
              "      <th>1</th>\n",
              "      <td>1119715</td>\n",
              "      <td>ad</td>\n",
              "      <td>False</td>\n",
              "      <td>93</td>\n",
              "      <td>Tuesday</td>\n",
              "      <td>22</td>\n",
              "    </tr>\n",
              "    <tr>\n",
              "      <th>2</th>\n",
              "      <td>1144181</td>\n",
              "      <td>ad</td>\n",
              "      <td>False</td>\n",
              "      <td>21</td>\n",
              "      <td>Tuesday</td>\n",
              "      <td>18</td>\n",
              "    </tr>\n",
              "    <tr>\n",
              "      <th>3</th>\n",
              "      <td>1435133</td>\n",
              "      <td>ad</td>\n",
              "      <td>False</td>\n",
              "      <td>355</td>\n",
              "      <td>Tuesday</td>\n",
              "      <td>10</td>\n",
              "    </tr>\n",
              "    <tr>\n",
              "      <th>4</th>\n",
              "      <td>1015700</td>\n",
              "      <td>ad</td>\n",
              "      <td>False</td>\n",
              "      <td>276</td>\n",
              "      <td>Friday</td>\n",
              "      <td>14</td>\n",
              "    </tr>\n",
              "  </tbody>\n",
              "</table>\n",
              "</div>\n",
              "    <div class=\"colab-df-buttons\">\n",
              "\n",
              "  <div class=\"colab-df-container\">\n",
              "    <button class=\"colab-df-convert\" onclick=\"convertToInteractive('df-2c652e75-1470-454d-9471-ec52def031e3')\"\n",
              "            title=\"Convert this dataframe to an interactive table.\"\n",
              "            style=\"display:none;\">\n",
              "\n",
              "  <svg xmlns=\"http://www.w3.org/2000/svg\" height=\"24px\" viewBox=\"0 -960 960 960\">\n",
              "    <path d=\"M120-120v-720h720v720H120Zm60-500h600v-160H180v160Zm220 220h160v-160H400v160Zm0 220h160v-160H400v160ZM180-400h160v-160H180v160Zm440 0h160v-160H620v160ZM180-180h160v-160H180v160Zm440 0h160v-160H620v160Z\"/>\n",
              "  </svg>\n",
              "    </button>\n",
              "\n",
              "  <style>\n",
              "    .colab-df-container {\n",
              "      display:flex;\n",
              "      gap: 12px;\n",
              "    }\n",
              "\n",
              "    .colab-df-convert {\n",
              "      background-color: #E8F0FE;\n",
              "      border: none;\n",
              "      border-radius: 50%;\n",
              "      cursor: pointer;\n",
              "      display: none;\n",
              "      fill: #1967D2;\n",
              "      height: 32px;\n",
              "      padding: 0 0 0 0;\n",
              "      width: 32px;\n",
              "    }\n",
              "\n",
              "    .colab-df-convert:hover {\n",
              "      background-color: #E2EBFA;\n",
              "      box-shadow: 0px 1px 2px rgba(60, 64, 67, 0.3), 0px 1px 3px 1px rgba(60, 64, 67, 0.15);\n",
              "      fill: #174EA6;\n",
              "    }\n",
              "\n",
              "    .colab-df-buttons div {\n",
              "      margin-bottom: 4px;\n",
              "    }\n",
              "\n",
              "    [theme=dark] .colab-df-convert {\n",
              "      background-color: #3B4455;\n",
              "      fill: #D2E3FC;\n",
              "    }\n",
              "\n",
              "    [theme=dark] .colab-df-convert:hover {\n",
              "      background-color: #434B5C;\n",
              "      box-shadow: 0px 1px 3px 1px rgba(0, 0, 0, 0.15);\n",
              "      filter: drop-shadow(0px 1px 2px rgba(0, 0, 0, 0.3));\n",
              "      fill: #FFFFFF;\n",
              "    }\n",
              "  </style>\n",
              "\n",
              "    <script>\n",
              "      const buttonEl =\n",
              "        document.querySelector('#df-2c652e75-1470-454d-9471-ec52def031e3 button.colab-df-convert');\n",
              "      buttonEl.style.display =\n",
              "        google.colab.kernel.accessAllowed ? 'block' : 'none';\n",
              "\n",
              "      async function convertToInteractive(key) {\n",
              "        const element = document.querySelector('#df-2c652e75-1470-454d-9471-ec52def031e3');\n",
              "        const dataTable =\n",
              "          await google.colab.kernel.invokeFunction('convertToInteractive',\n",
              "                                                    [key], {});\n",
              "        if (!dataTable) return;\n",
              "\n",
              "        const docLinkHtml = 'Like what you see? Visit the ' +\n",
              "          '<a target=\"_blank\" href=https://colab.research.google.com/notebooks/data_table.ipynb>data table notebook</a>'\n",
              "          + ' to learn more about interactive tables.';\n",
              "        element.innerHTML = '';\n",
              "        dataTable['output_type'] = 'display_data';\n",
              "        await google.colab.output.renderOutput(dataTable, element);\n",
              "        const docLink = document.createElement('div');\n",
              "        docLink.innerHTML = docLinkHtml;\n",
              "        element.appendChild(docLink);\n",
              "      }\n",
              "    </script>\n",
              "  </div>\n",
              "\n",
              "\n",
              "<div id=\"df-3480445d-1a86-4953-9c44-b9d8477f1ed1\">\n",
              "  <button class=\"colab-df-quickchart\" onclick=\"quickchart('df-3480445d-1a86-4953-9c44-b9d8477f1ed1')\"\n",
              "            title=\"Suggest charts\"\n",
              "            style=\"display:none;\">\n",
              "\n",
              "<svg xmlns=\"http://www.w3.org/2000/svg\" height=\"24px\"viewBox=\"0 0 24 24\"\n",
              "     width=\"24px\">\n",
              "    <g>\n",
              "        <path d=\"M19 3H5c-1.1 0-2 .9-2 2v14c0 1.1.9 2 2 2h14c1.1 0 2-.9 2-2V5c0-1.1-.9-2-2-2zM9 17H7v-7h2v7zm4 0h-2V7h2v10zm4 0h-2v-4h2v4z\"/>\n",
              "    </g>\n",
              "</svg>\n",
              "  </button>\n",
              "\n",
              "<style>\n",
              "  .colab-df-quickchart {\n",
              "      --bg-color: #E8F0FE;\n",
              "      --fill-color: #1967D2;\n",
              "      --hover-bg-color: #E2EBFA;\n",
              "      --hover-fill-color: #174EA6;\n",
              "      --disabled-fill-color: #AAA;\n",
              "      --disabled-bg-color: #DDD;\n",
              "  }\n",
              "\n",
              "  [theme=dark] .colab-df-quickchart {\n",
              "      --bg-color: #3B4455;\n",
              "      --fill-color: #D2E3FC;\n",
              "      --hover-bg-color: #434B5C;\n",
              "      --hover-fill-color: #FFFFFF;\n",
              "      --disabled-bg-color: #3B4455;\n",
              "      --disabled-fill-color: #666;\n",
              "  }\n",
              "\n",
              "  .colab-df-quickchart {\n",
              "    background-color: var(--bg-color);\n",
              "    border: none;\n",
              "    border-radius: 50%;\n",
              "    cursor: pointer;\n",
              "    display: none;\n",
              "    fill: var(--fill-color);\n",
              "    height: 32px;\n",
              "    padding: 0;\n",
              "    width: 32px;\n",
              "  }\n",
              "\n",
              "  .colab-df-quickchart:hover {\n",
              "    background-color: var(--hover-bg-color);\n",
              "    box-shadow: 0 1px 2px rgba(60, 64, 67, 0.3), 0 1px 3px 1px rgba(60, 64, 67, 0.15);\n",
              "    fill: var(--button-hover-fill-color);\n",
              "  }\n",
              "\n",
              "  .colab-df-quickchart-complete:disabled,\n",
              "  .colab-df-quickchart-complete:disabled:hover {\n",
              "    background-color: var(--disabled-bg-color);\n",
              "    fill: var(--disabled-fill-color);\n",
              "    box-shadow: none;\n",
              "  }\n",
              "\n",
              "  .colab-df-spinner {\n",
              "    border: 2px solid var(--fill-color);\n",
              "    border-color: transparent;\n",
              "    border-bottom-color: var(--fill-color);\n",
              "    animation:\n",
              "      spin 1s steps(1) infinite;\n",
              "  }\n",
              "\n",
              "  @keyframes spin {\n",
              "    0% {\n",
              "      border-color: transparent;\n",
              "      border-bottom-color: var(--fill-color);\n",
              "      border-left-color: var(--fill-color);\n",
              "    }\n",
              "    20% {\n",
              "      border-color: transparent;\n",
              "      border-left-color: var(--fill-color);\n",
              "      border-top-color: var(--fill-color);\n",
              "    }\n",
              "    30% {\n",
              "      border-color: transparent;\n",
              "      border-left-color: var(--fill-color);\n",
              "      border-top-color: var(--fill-color);\n",
              "      border-right-color: var(--fill-color);\n",
              "    }\n",
              "    40% {\n",
              "      border-color: transparent;\n",
              "      border-right-color: var(--fill-color);\n",
              "      border-top-color: var(--fill-color);\n",
              "    }\n",
              "    60% {\n",
              "      border-color: transparent;\n",
              "      border-right-color: var(--fill-color);\n",
              "    }\n",
              "    80% {\n",
              "      border-color: transparent;\n",
              "      border-right-color: var(--fill-color);\n",
              "      border-bottom-color: var(--fill-color);\n",
              "    }\n",
              "    90% {\n",
              "      border-color: transparent;\n",
              "      border-bottom-color: var(--fill-color);\n",
              "    }\n",
              "  }\n",
              "</style>\n",
              "\n",
              "  <script>\n",
              "    async function quickchart(key) {\n",
              "      const quickchartButtonEl =\n",
              "        document.querySelector('#' + key + ' button');\n",
              "      quickchartButtonEl.disabled = true;  // To prevent multiple clicks.\n",
              "      quickchartButtonEl.classList.add('colab-df-spinner');\n",
              "      try {\n",
              "        const charts = await google.colab.kernel.invokeFunction(\n",
              "            'suggestCharts', [key], {});\n",
              "      } catch (error) {\n",
              "        console.error('Error during call to suggestCharts:', error);\n",
              "      }\n",
              "      quickchartButtonEl.classList.remove('colab-df-spinner');\n",
              "      quickchartButtonEl.classList.add('colab-df-quickchart-complete');\n",
              "    }\n",
              "    (() => {\n",
              "      let quickchartButtonEl =\n",
              "        document.querySelector('#df-3480445d-1a86-4953-9c44-b9d8477f1ed1 button');\n",
              "      quickchartButtonEl.style.display =\n",
              "        google.colab.kernel.accessAllowed ? 'block' : 'none';\n",
              "    })();\n",
              "  </script>\n",
              "</div>\n",
              "\n",
              "    </div>\n",
              "  </div>\n"
            ],
            "application/vnd.google.colaboratory.intrinsic+json": {
              "type": "dataframe",
              "variable_name": "df"
            }
          },
          "metadata": {},
          "execution_count": 2
        }
      ],
      "source": [
        "# Read data and clean up column names\n",
        "path_data = 'https://github.com/pabloestradac/experimentation-notebooks/raw/main/data/'\n",
        "df = pd.read_csv(path_data + 'marketing_campaign.csv', index_col=0)\n",
        "df = df.rename(columns=lambda x: x.strip().replace(\" \", \"_\"))\n",
        "df.head()"
      ]
    },
    {
      "cell_type": "code",
      "execution_count": null,
      "metadata": {
        "id": "_OEZKZCYI9iq",
        "colab": {
          "base_uri": "https://localhost:8080/"
        },
        "outputId": "47c2f570-7c8a-4737-8352-37edbad1f256"
      },
      "outputs": [
        {
          "output_type": "stream",
          "name": "stdout",
          "text": [
            "<class 'pandas.core.frame.DataFrame'>\n",
            "Index: 588101 entries, 0 to 588100\n",
            "Data columns (total 6 columns):\n",
            " #   Column         Non-Null Count   Dtype \n",
            "---  ------         --------------   ----- \n",
            " 0   user_id        588101 non-null  int64 \n",
            " 1   test_group     588101 non-null  object\n",
            " 2   converted      588101 non-null  bool  \n",
            " 3   total_ads      588101 non-null  int64 \n",
            " 4   most_ads_day   588101 non-null  object\n",
            " 5   most_ads_hour  588101 non-null  int64 \n",
            "dtypes: bool(1), int64(3), object(2)\n",
            "memory usage: 27.5+ MB\n"
          ]
        }
      ],
      "source": [
        "# Check for missing values and data types\n",
        "df.info()"
      ]
    },
    {
      "cell_type": "code",
      "execution_count": null,
      "metadata": {
        "id": "snB2nu4_I9iq",
        "colab": {
          "base_uri": "https://localhost:8080/",
          "height": 195
        },
        "outputId": "06d62554-d17b-46c8-a0f5-582050cdac9c"
      },
      "outputs": [
        {
          "output_type": "execute_result",
          "data": {
            "text/plain": [
              "       test_group converted most_ads_day\n",
              "count      588101    588101       588101\n",
              "unique          2         2            7\n",
              "top            ad     False       Friday\n",
              "freq       564577    573258        92608"
            ],
            "text/html": [
              "\n",
              "  <div id=\"df-b2c0ba5e-0960-464b-9308-a9ff60bc3a4c\" class=\"colab-df-container\">\n",
              "    <div>\n",
              "<style scoped>\n",
              "    .dataframe tbody tr th:only-of-type {\n",
              "        vertical-align: middle;\n",
              "    }\n",
              "\n",
              "    .dataframe tbody tr th {\n",
              "        vertical-align: top;\n",
              "    }\n",
              "\n",
              "    .dataframe thead th {\n",
              "        text-align: right;\n",
              "    }\n",
              "</style>\n",
              "<table border=\"1\" class=\"dataframe\">\n",
              "  <thead>\n",
              "    <tr style=\"text-align: right;\">\n",
              "      <th></th>\n",
              "      <th>test_group</th>\n",
              "      <th>converted</th>\n",
              "      <th>most_ads_day</th>\n",
              "    </tr>\n",
              "  </thead>\n",
              "  <tbody>\n",
              "    <tr>\n",
              "      <th>count</th>\n",
              "      <td>588101</td>\n",
              "      <td>588101</td>\n",
              "      <td>588101</td>\n",
              "    </tr>\n",
              "    <tr>\n",
              "      <th>unique</th>\n",
              "      <td>2</td>\n",
              "      <td>2</td>\n",
              "      <td>7</td>\n",
              "    </tr>\n",
              "    <tr>\n",
              "      <th>top</th>\n",
              "      <td>ad</td>\n",
              "      <td>False</td>\n",
              "      <td>Friday</td>\n",
              "    </tr>\n",
              "    <tr>\n",
              "      <th>freq</th>\n",
              "      <td>564577</td>\n",
              "      <td>573258</td>\n",
              "      <td>92608</td>\n",
              "    </tr>\n",
              "  </tbody>\n",
              "</table>\n",
              "</div>\n",
              "    <div class=\"colab-df-buttons\">\n",
              "\n",
              "  <div class=\"colab-df-container\">\n",
              "    <button class=\"colab-df-convert\" onclick=\"convertToInteractive('df-b2c0ba5e-0960-464b-9308-a9ff60bc3a4c')\"\n",
              "            title=\"Convert this dataframe to an interactive table.\"\n",
              "            style=\"display:none;\">\n",
              "\n",
              "  <svg xmlns=\"http://www.w3.org/2000/svg\" height=\"24px\" viewBox=\"0 -960 960 960\">\n",
              "    <path d=\"M120-120v-720h720v720H120Zm60-500h600v-160H180v160Zm220 220h160v-160H400v160Zm0 220h160v-160H400v160ZM180-400h160v-160H180v160Zm440 0h160v-160H620v160ZM180-180h160v-160H180v160Zm440 0h160v-160H620v160Z\"/>\n",
              "  </svg>\n",
              "    </button>\n",
              "\n",
              "  <style>\n",
              "    .colab-df-container {\n",
              "      display:flex;\n",
              "      gap: 12px;\n",
              "    }\n",
              "\n",
              "    .colab-df-convert {\n",
              "      background-color: #E8F0FE;\n",
              "      border: none;\n",
              "      border-radius: 50%;\n",
              "      cursor: pointer;\n",
              "      display: none;\n",
              "      fill: #1967D2;\n",
              "      height: 32px;\n",
              "      padding: 0 0 0 0;\n",
              "      width: 32px;\n",
              "    }\n",
              "\n",
              "    .colab-df-convert:hover {\n",
              "      background-color: #E2EBFA;\n",
              "      box-shadow: 0px 1px 2px rgba(60, 64, 67, 0.3), 0px 1px 3px 1px rgba(60, 64, 67, 0.15);\n",
              "      fill: #174EA6;\n",
              "    }\n",
              "\n",
              "    .colab-df-buttons div {\n",
              "      margin-bottom: 4px;\n",
              "    }\n",
              "\n",
              "    [theme=dark] .colab-df-convert {\n",
              "      background-color: #3B4455;\n",
              "      fill: #D2E3FC;\n",
              "    }\n",
              "\n",
              "    [theme=dark] .colab-df-convert:hover {\n",
              "      background-color: #434B5C;\n",
              "      box-shadow: 0px 1px 3px 1px rgba(0, 0, 0, 0.15);\n",
              "      filter: drop-shadow(0px 1px 2px rgba(0, 0, 0, 0.3));\n",
              "      fill: #FFFFFF;\n",
              "    }\n",
              "  </style>\n",
              "\n",
              "    <script>\n",
              "      const buttonEl =\n",
              "        document.querySelector('#df-b2c0ba5e-0960-464b-9308-a9ff60bc3a4c button.colab-df-convert');\n",
              "      buttonEl.style.display =\n",
              "        google.colab.kernel.accessAllowed ? 'block' : 'none';\n",
              "\n",
              "      async function convertToInteractive(key) {\n",
              "        const element = document.querySelector('#df-b2c0ba5e-0960-464b-9308-a9ff60bc3a4c');\n",
              "        const dataTable =\n",
              "          await google.colab.kernel.invokeFunction('convertToInteractive',\n",
              "                                                    [key], {});\n",
              "        if (!dataTable) return;\n",
              "\n",
              "        const docLinkHtml = 'Like what you see? Visit the ' +\n",
              "          '<a target=\"_blank\" href=https://colab.research.google.com/notebooks/data_table.ipynb>data table notebook</a>'\n",
              "          + ' to learn more about interactive tables.';\n",
              "        element.innerHTML = '';\n",
              "        dataTable['output_type'] = 'display_data';\n",
              "        await google.colab.output.renderOutput(dataTable, element);\n",
              "        const docLink = document.createElement('div');\n",
              "        docLink.innerHTML = docLinkHtml;\n",
              "        element.appendChild(docLink);\n",
              "      }\n",
              "    </script>\n",
              "  </div>\n",
              "\n",
              "\n",
              "<div id=\"df-9414b7c5-c53c-4b44-bfa7-3788283531b8\">\n",
              "  <button class=\"colab-df-quickchart\" onclick=\"quickchart('df-9414b7c5-c53c-4b44-bfa7-3788283531b8')\"\n",
              "            title=\"Suggest charts\"\n",
              "            style=\"display:none;\">\n",
              "\n",
              "<svg xmlns=\"http://www.w3.org/2000/svg\" height=\"24px\"viewBox=\"0 0 24 24\"\n",
              "     width=\"24px\">\n",
              "    <g>\n",
              "        <path d=\"M19 3H5c-1.1 0-2 .9-2 2v14c0 1.1.9 2 2 2h14c1.1 0 2-.9 2-2V5c0-1.1-.9-2-2-2zM9 17H7v-7h2v7zm4 0h-2V7h2v10zm4 0h-2v-4h2v4z\"/>\n",
              "    </g>\n",
              "</svg>\n",
              "  </button>\n",
              "\n",
              "<style>\n",
              "  .colab-df-quickchart {\n",
              "      --bg-color: #E8F0FE;\n",
              "      --fill-color: #1967D2;\n",
              "      --hover-bg-color: #E2EBFA;\n",
              "      --hover-fill-color: #174EA6;\n",
              "      --disabled-fill-color: #AAA;\n",
              "      --disabled-bg-color: #DDD;\n",
              "  }\n",
              "\n",
              "  [theme=dark] .colab-df-quickchart {\n",
              "      --bg-color: #3B4455;\n",
              "      --fill-color: #D2E3FC;\n",
              "      --hover-bg-color: #434B5C;\n",
              "      --hover-fill-color: #FFFFFF;\n",
              "      --disabled-bg-color: #3B4455;\n",
              "      --disabled-fill-color: #666;\n",
              "  }\n",
              "\n",
              "  .colab-df-quickchart {\n",
              "    background-color: var(--bg-color);\n",
              "    border: none;\n",
              "    border-radius: 50%;\n",
              "    cursor: pointer;\n",
              "    display: none;\n",
              "    fill: var(--fill-color);\n",
              "    height: 32px;\n",
              "    padding: 0;\n",
              "    width: 32px;\n",
              "  }\n",
              "\n",
              "  .colab-df-quickchart:hover {\n",
              "    background-color: var(--hover-bg-color);\n",
              "    box-shadow: 0 1px 2px rgba(60, 64, 67, 0.3), 0 1px 3px 1px rgba(60, 64, 67, 0.15);\n",
              "    fill: var(--button-hover-fill-color);\n",
              "  }\n",
              "\n",
              "  .colab-df-quickchart-complete:disabled,\n",
              "  .colab-df-quickchart-complete:disabled:hover {\n",
              "    background-color: var(--disabled-bg-color);\n",
              "    fill: var(--disabled-fill-color);\n",
              "    box-shadow: none;\n",
              "  }\n",
              "\n",
              "  .colab-df-spinner {\n",
              "    border: 2px solid var(--fill-color);\n",
              "    border-color: transparent;\n",
              "    border-bottom-color: var(--fill-color);\n",
              "    animation:\n",
              "      spin 1s steps(1) infinite;\n",
              "  }\n",
              "\n",
              "  @keyframes spin {\n",
              "    0% {\n",
              "      border-color: transparent;\n",
              "      border-bottom-color: var(--fill-color);\n",
              "      border-left-color: var(--fill-color);\n",
              "    }\n",
              "    20% {\n",
              "      border-color: transparent;\n",
              "      border-left-color: var(--fill-color);\n",
              "      border-top-color: var(--fill-color);\n",
              "    }\n",
              "    30% {\n",
              "      border-color: transparent;\n",
              "      border-left-color: var(--fill-color);\n",
              "      border-top-color: var(--fill-color);\n",
              "      border-right-color: var(--fill-color);\n",
              "    }\n",
              "    40% {\n",
              "      border-color: transparent;\n",
              "      border-right-color: var(--fill-color);\n",
              "      border-top-color: var(--fill-color);\n",
              "    }\n",
              "    60% {\n",
              "      border-color: transparent;\n",
              "      border-right-color: var(--fill-color);\n",
              "    }\n",
              "    80% {\n",
              "      border-color: transparent;\n",
              "      border-right-color: var(--fill-color);\n",
              "      border-bottom-color: var(--fill-color);\n",
              "    }\n",
              "    90% {\n",
              "      border-color: transparent;\n",
              "      border-bottom-color: var(--fill-color);\n",
              "    }\n",
              "  }\n",
              "</style>\n",
              "\n",
              "  <script>\n",
              "    async function quickchart(key) {\n",
              "      const quickchartButtonEl =\n",
              "        document.querySelector('#' + key + ' button');\n",
              "      quickchartButtonEl.disabled = true;  // To prevent multiple clicks.\n",
              "      quickchartButtonEl.classList.add('colab-df-spinner');\n",
              "      try {\n",
              "        const charts = await google.colab.kernel.invokeFunction(\n",
              "            'suggestCharts', [key], {});\n",
              "      } catch (error) {\n",
              "        console.error('Error during call to suggestCharts:', error);\n",
              "      }\n",
              "      quickchartButtonEl.classList.remove('colab-df-spinner');\n",
              "      quickchartButtonEl.classList.add('colab-df-quickchart-complete');\n",
              "    }\n",
              "    (() => {\n",
              "      let quickchartButtonEl =\n",
              "        document.querySelector('#df-9414b7c5-c53c-4b44-bfa7-3788283531b8 button');\n",
              "      quickchartButtonEl.style.display =\n",
              "        google.colab.kernel.accessAllowed ? 'block' : 'none';\n",
              "    })();\n",
              "  </script>\n",
              "</div>\n",
              "\n",
              "    </div>\n",
              "  </div>\n"
            ],
            "application/vnd.google.colaboratory.intrinsic+json": {
              "type": "dataframe",
              "summary": "{\n  \"name\": \"df[['test_group', 'converted', 'most_ads_day']]\",\n  \"rows\": 4,\n  \"fields\": [\n    {\n      \"column\": \"test_group\",\n      \"properties\": {\n        \"dtype\": \"string\",\n        \"num_unique_values\": 4,\n        \"samples\": [\n          2,\n          \"564577\",\n          \"588101\"\n        ],\n        \"semantic_type\": \"\",\n        \"description\": \"\"\n      }\n    },\n    {\n      \"column\": \"converted\",\n      \"properties\": {\n        \"dtype\": \"string\",\n        \"num_unique_values\": 4,\n        \"samples\": [\n          2,\n          \"573258\",\n          \"588101\"\n        ],\n        \"semantic_type\": \"\",\n        \"description\": \"\"\n      }\n    },\n    {\n      \"column\": \"most_ads_day\",\n      \"properties\": {\n        \"dtype\": \"string\",\n        \"num_unique_values\": 4,\n        \"samples\": [\n          7,\n          \"92608\",\n          \"588101\"\n        ],\n        \"semantic_type\": \"\",\n        \"description\": \"\"\n      }\n    }\n  ]\n}"
            }
          },
          "metadata": {},
          "execution_count": 6
        }
      ],
      "source": [
        "# Descriptive statistics\n",
        "df[['test_group', 'converted', 'most_ads_day']].describe()"
      ]
    },
    {
      "cell_type": "code",
      "source": [
        "# Descriptive statistics\n",
        "df[['total_ads', 'most_ads_hour']].describe()"
      ],
      "metadata": {
        "id": "63c8e84uVPBC",
        "colab": {
          "base_uri": "https://localhost:8080/",
          "height": 320
        },
        "outputId": "a1f5f04e-0041-4dc8-87bc-81750770f3ae"
      },
      "execution_count": null,
      "outputs": [
        {
          "output_type": "execute_result",
          "data": {
            "text/plain": [
              "           total_ads  most_ads_hour\n",
              "count  588101.000000  588101.000000\n",
              "mean       24.820876      14.469061\n",
              "std        43.715181       4.834634\n",
              "min         1.000000       0.000000\n",
              "25%         4.000000      11.000000\n",
              "50%        13.000000      14.000000\n",
              "75%        27.000000      18.000000\n",
              "max      2065.000000      23.000000"
            ],
            "text/html": [
              "\n",
              "  <div id=\"df-63dab7a0-d835-4175-915a-b51d3203d5ce\" class=\"colab-df-container\">\n",
              "    <div>\n",
              "<style scoped>\n",
              "    .dataframe tbody tr th:only-of-type {\n",
              "        vertical-align: middle;\n",
              "    }\n",
              "\n",
              "    .dataframe tbody tr th {\n",
              "        vertical-align: top;\n",
              "    }\n",
              "\n",
              "    .dataframe thead th {\n",
              "        text-align: right;\n",
              "    }\n",
              "</style>\n",
              "<table border=\"1\" class=\"dataframe\">\n",
              "  <thead>\n",
              "    <tr style=\"text-align: right;\">\n",
              "      <th></th>\n",
              "      <th>total_ads</th>\n",
              "      <th>most_ads_hour</th>\n",
              "    </tr>\n",
              "  </thead>\n",
              "  <tbody>\n",
              "    <tr>\n",
              "      <th>count</th>\n",
              "      <td>588101.000000</td>\n",
              "      <td>588101.000000</td>\n",
              "    </tr>\n",
              "    <tr>\n",
              "      <th>mean</th>\n",
              "      <td>24.820876</td>\n",
              "      <td>14.469061</td>\n",
              "    </tr>\n",
              "    <tr>\n",
              "      <th>std</th>\n",
              "      <td>43.715181</td>\n",
              "      <td>4.834634</td>\n",
              "    </tr>\n",
              "    <tr>\n",
              "      <th>min</th>\n",
              "      <td>1.000000</td>\n",
              "      <td>0.000000</td>\n",
              "    </tr>\n",
              "    <tr>\n",
              "      <th>25%</th>\n",
              "      <td>4.000000</td>\n",
              "      <td>11.000000</td>\n",
              "    </tr>\n",
              "    <tr>\n",
              "      <th>50%</th>\n",
              "      <td>13.000000</td>\n",
              "      <td>14.000000</td>\n",
              "    </tr>\n",
              "    <tr>\n",
              "      <th>75%</th>\n",
              "      <td>27.000000</td>\n",
              "      <td>18.000000</td>\n",
              "    </tr>\n",
              "    <tr>\n",
              "      <th>max</th>\n",
              "      <td>2065.000000</td>\n",
              "      <td>23.000000</td>\n",
              "    </tr>\n",
              "  </tbody>\n",
              "</table>\n",
              "</div>\n",
              "    <div class=\"colab-df-buttons\">\n",
              "\n",
              "  <div class=\"colab-df-container\">\n",
              "    <button class=\"colab-df-convert\" onclick=\"convertToInteractive('df-63dab7a0-d835-4175-915a-b51d3203d5ce')\"\n",
              "            title=\"Convert this dataframe to an interactive table.\"\n",
              "            style=\"display:none;\">\n",
              "\n",
              "  <svg xmlns=\"http://www.w3.org/2000/svg\" height=\"24px\" viewBox=\"0 -960 960 960\">\n",
              "    <path d=\"M120-120v-720h720v720H120Zm60-500h600v-160H180v160Zm220 220h160v-160H400v160Zm0 220h160v-160H400v160ZM180-400h160v-160H180v160Zm440 0h160v-160H620v160ZM180-180h160v-160H180v160Zm440 0h160v-160H620v160Z\"/>\n",
              "  </svg>\n",
              "    </button>\n",
              "\n",
              "  <style>\n",
              "    .colab-df-container {\n",
              "      display:flex;\n",
              "      gap: 12px;\n",
              "    }\n",
              "\n",
              "    .colab-df-convert {\n",
              "      background-color: #E8F0FE;\n",
              "      border: none;\n",
              "      border-radius: 50%;\n",
              "      cursor: pointer;\n",
              "      display: none;\n",
              "      fill: #1967D2;\n",
              "      height: 32px;\n",
              "      padding: 0 0 0 0;\n",
              "      width: 32px;\n",
              "    }\n",
              "\n",
              "    .colab-df-convert:hover {\n",
              "      background-color: #E2EBFA;\n",
              "      box-shadow: 0px 1px 2px rgba(60, 64, 67, 0.3), 0px 1px 3px 1px rgba(60, 64, 67, 0.15);\n",
              "      fill: #174EA6;\n",
              "    }\n",
              "\n",
              "    .colab-df-buttons div {\n",
              "      margin-bottom: 4px;\n",
              "    }\n",
              "\n",
              "    [theme=dark] .colab-df-convert {\n",
              "      background-color: #3B4455;\n",
              "      fill: #D2E3FC;\n",
              "    }\n",
              "\n",
              "    [theme=dark] .colab-df-convert:hover {\n",
              "      background-color: #434B5C;\n",
              "      box-shadow: 0px 1px 3px 1px rgba(0, 0, 0, 0.15);\n",
              "      filter: drop-shadow(0px 1px 2px rgba(0, 0, 0, 0.3));\n",
              "      fill: #FFFFFF;\n",
              "    }\n",
              "  </style>\n",
              "\n",
              "    <script>\n",
              "      const buttonEl =\n",
              "        document.querySelector('#df-63dab7a0-d835-4175-915a-b51d3203d5ce button.colab-df-convert');\n",
              "      buttonEl.style.display =\n",
              "        google.colab.kernel.accessAllowed ? 'block' : 'none';\n",
              "\n",
              "      async function convertToInteractive(key) {\n",
              "        const element = document.querySelector('#df-63dab7a0-d835-4175-915a-b51d3203d5ce');\n",
              "        const dataTable =\n",
              "          await google.colab.kernel.invokeFunction('convertToInteractive',\n",
              "                                                    [key], {});\n",
              "        if (!dataTable) return;\n",
              "\n",
              "        const docLinkHtml = 'Like what you see? Visit the ' +\n",
              "          '<a target=\"_blank\" href=https://colab.research.google.com/notebooks/data_table.ipynb>data table notebook</a>'\n",
              "          + ' to learn more about interactive tables.';\n",
              "        element.innerHTML = '';\n",
              "        dataTable['output_type'] = 'display_data';\n",
              "        await google.colab.output.renderOutput(dataTable, element);\n",
              "        const docLink = document.createElement('div');\n",
              "        docLink.innerHTML = docLinkHtml;\n",
              "        element.appendChild(docLink);\n",
              "      }\n",
              "    </script>\n",
              "  </div>\n",
              "\n",
              "\n",
              "<div id=\"df-e02296dc-709f-4759-9e5b-7660e780df1f\">\n",
              "  <button class=\"colab-df-quickchart\" onclick=\"quickchart('df-e02296dc-709f-4759-9e5b-7660e780df1f')\"\n",
              "            title=\"Suggest charts\"\n",
              "            style=\"display:none;\">\n",
              "\n",
              "<svg xmlns=\"http://www.w3.org/2000/svg\" height=\"24px\"viewBox=\"0 0 24 24\"\n",
              "     width=\"24px\">\n",
              "    <g>\n",
              "        <path d=\"M19 3H5c-1.1 0-2 .9-2 2v14c0 1.1.9 2 2 2h14c1.1 0 2-.9 2-2V5c0-1.1-.9-2-2-2zM9 17H7v-7h2v7zm4 0h-2V7h2v10zm4 0h-2v-4h2v4z\"/>\n",
              "    </g>\n",
              "</svg>\n",
              "  </button>\n",
              "\n",
              "<style>\n",
              "  .colab-df-quickchart {\n",
              "      --bg-color: #E8F0FE;\n",
              "      --fill-color: #1967D2;\n",
              "      --hover-bg-color: #E2EBFA;\n",
              "      --hover-fill-color: #174EA6;\n",
              "      --disabled-fill-color: #AAA;\n",
              "      --disabled-bg-color: #DDD;\n",
              "  }\n",
              "\n",
              "  [theme=dark] .colab-df-quickchart {\n",
              "      --bg-color: #3B4455;\n",
              "      --fill-color: #D2E3FC;\n",
              "      --hover-bg-color: #434B5C;\n",
              "      --hover-fill-color: #FFFFFF;\n",
              "      --disabled-bg-color: #3B4455;\n",
              "      --disabled-fill-color: #666;\n",
              "  }\n",
              "\n",
              "  .colab-df-quickchart {\n",
              "    background-color: var(--bg-color);\n",
              "    border: none;\n",
              "    border-radius: 50%;\n",
              "    cursor: pointer;\n",
              "    display: none;\n",
              "    fill: var(--fill-color);\n",
              "    height: 32px;\n",
              "    padding: 0;\n",
              "    width: 32px;\n",
              "  }\n",
              "\n",
              "  .colab-df-quickchart:hover {\n",
              "    background-color: var(--hover-bg-color);\n",
              "    box-shadow: 0 1px 2px rgba(60, 64, 67, 0.3), 0 1px 3px 1px rgba(60, 64, 67, 0.15);\n",
              "    fill: var(--button-hover-fill-color);\n",
              "  }\n",
              "\n",
              "  .colab-df-quickchart-complete:disabled,\n",
              "  .colab-df-quickchart-complete:disabled:hover {\n",
              "    background-color: var(--disabled-bg-color);\n",
              "    fill: var(--disabled-fill-color);\n",
              "    box-shadow: none;\n",
              "  }\n",
              "\n",
              "  .colab-df-spinner {\n",
              "    border: 2px solid var(--fill-color);\n",
              "    border-color: transparent;\n",
              "    border-bottom-color: var(--fill-color);\n",
              "    animation:\n",
              "      spin 1s steps(1) infinite;\n",
              "  }\n",
              "\n",
              "  @keyframes spin {\n",
              "    0% {\n",
              "      border-color: transparent;\n",
              "      border-bottom-color: var(--fill-color);\n",
              "      border-left-color: var(--fill-color);\n",
              "    }\n",
              "    20% {\n",
              "      border-color: transparent;\n",
              "      border-left-color: var(--fill-color);\n",
              "      border-top-color: var(--fill-color);\n",
              "    }\n",
              "    30% {\n",
              "      border-color: transparent;\n",
              "      border-left-color: var(--fill-color);\n",
              "      border-top-color: var(--fill-color);\n",
              "      border-right-color: var(--fill-color);\n",
              "    }\n",
              "    40% {\n",
              "      border-color: transparent;\n",
              "      border-right-color: var(--fill-color);\n",
              "      border-top-color: var(--fill-color);\n",
              "    }\n",
              "    60% {\n",
              "      border-color: transparent;\n",
              "      border-right-color: var(--fill-color);\n",
              "    }\n",
              "    80% {\n",
              "      border-color: transparent;\n",
              "      border-right-color: var(--fill-color);\n",
              "      border-bottom-color: var(--fill-color);\n",
              "    }\n",
              "    90% {\n",
              "      border-color: transparent;\n",
              "      border-bottom-color: var(--fill-color);\n",
              "    }\n",
              "  }\n",
              "</style>\n",
              "\n",
              "  <script>\n",
              "    async function quickchart(key) {\n",
              "      const quickchartButtonEl =\n",
              "        document.querySelector('#' + key + ' button');\n",
              "      quickchartButtonEl.disabled = true;  // To prevent multiple clicks.\n",
              "      quickchartButtonEl.classList.add('colab-df-spinner');\n",
              "      try {\n",
              "        const charts = await google.colab.kernel.invokeFunction(\n",
              "            'suggestCharts', [key], {});\n",
              "      } catch (error) {\n",
              "        console.error('Error during call to suggestCharts:', error);\n",
              "      }\n",
              "      quickchartButtonEl.classList.remove('colab-df-spinner');\n",
              "      quickchartButtonEl.classList.add('colab-df-quickchart-complete');\n",
              "    }\n",
              "    (() => {\n",
              "      let quickchartButtonEl =\n",
              "        document.querySelector('#df-e02296dc-709f-4759-9e5b-7660e780df1f button');\n",
              "      quickchartButtonEl.style.display =\n",
              "        google.colab.kernel.accessAllowed ? 'block' : 'none';\n",
              "    })();\n",
              "  </script>\n",
              "</div>\n",
              "\n",
              "    </div>\n",
              "  </div>\n"
            ],
            "application/vnd.google.colaboratory.intrinsic+json": {
              "type": "dataframe",
              "summary": "{\n  \"name\": \"df[['total_ads', 'most_ads_hour']]\",\n  \"rows\": 8,\n  \"fields\": [\n    {\n      \"column\": \"total_ads\",\n      \"properties\": {\n        \"dtype\": \"number\",\n        \"std\": 207816.30368195256,\n        \"min\": 1.0,\n        \"max\": 588101.0,\n        \"num_unique_values\": 8,\n        \"samples\": [\n          24.82087600599217,\n          13.0,\n          588101.0\n        ],\n        \"semantic_type\": \"\",\n        \"description\": \"\"\n      }\n    },\n    {\n      \"column\": \"most_ads_hour\",\n      \"properties\": {\n        \"dtype\": \"number\",\n        \"std\": 207920.79419886248,\n        \"min\": 0.0,\n        \"max\": 588101.0,\n        \"num_unique_values\": 8,\n        \"samples\": [\n          14.469060586531905,\n          14.0,\n          588101.0\n        ],\n        \"semantic_type\": \"\",\n        \"description\": \"\"\n      }\n    }\n  ]\n}"
            }
          },
          "metadata": {},
          "execution_count": 5
        }
      ]
    },
    {
      "cell_type": "code",
      "execution_count": null,
      "metadata": {
        "id": "PXACsQVJI9ir",
        "colab": {
          "base_uri": "https://localhost:8080/",
          "height": 74
        },
        "outputId": "30661395-83f0-4d70-d8bd-4c23d6320ecd"
      },
      "outputs": [
        {
          "output_type": "execute_result",
          "data": {
            "text/plain": [
              "Empty DataFrame\n",
              "Columns: [user_id, test_group, converted, total_ads, most_ads_day, most_ads_hour]\n",
              "Index: []"
            ],
            "text/html": [
              "\n",
              "  <div id=\"df-a775e802-a86d-42eb-a34b-68f53249861f\" class=\"colab-df-container\">\n",
              "    <div>\n",
              "<style scoped>\n",
              "    .dataframe tbody tr th:only-of-type {\n",
              "        vertical-align: middle;\n",
              "    }\n",
              "\n",
              "    .dataframe tbody tr th {\n",
              "        vertical-align: top;\n",
              "    }\n",
              "\n",
              "    .dataframe thead th {\n",
              "        text-align: right;\n",
              "    }\n",
              "</style>\n",
              "<table border=\"1\" class=\"dataframe\">\n",
              "  <thead>\n",
              "    <tr style=\"text-align: right;\">\n",
              "      <th></th>\n",
              "      <th>user_id</th>\n",
              "      <th>test_group</th>\n",
              "      <th>converted</th>\n",
              "      <th>total_ads</th>\n",
              "      <th>most_ads_day</th>\n",
              "      <th>most_ads_hour</th>\n",
              "    </tr>\n",
              "  </thead>\n",
              "  <tbody>\n",
              "  </tbody>\n",
              "</table>\n",
              "</div>\n",
              "    <div class=\"colab-df-buttons\">\n",
              "\n",
              "  <div class=\"colab-df-container\">\n",
              "    <button class=\"colab-df-convert\" onclick=\"convertToInteractive('df-a775e802-a86d-42eb-a34b-68f53249861f')\"\n",
              "            title=\"Convert this dataframe to an interactive table.\"\n",
              "            style=\"display:none;\">\n",
              "\n",
              "  <svg xmlns=\"http://www.w3.org/2000/svg\" height=\"24px\" viewBox=\"0 -960 960 960\">\n",
              "    <path d=\"M120-120v-720h720v720H120Zm60-500h600v-160H180v160Zm220 220h160v-160H400v160Zm0 220h160v-160H400v160ZM180-400h160v-160H180v160Zm440 0h160v-160H620v160ZM180-180h160v-160H180v160Zm440 0h160v-160H620v160Z\"/>\n",
              "  </svg>\n",
              "    </button>\n",
              "\n",
              "  <style>\n",
              "    .colab-df-container {\n",
              "      display:flex;\n",
              "      gap: 12px;\n",
              "    }\n",
              "\n",
              "    .colab-df-convert {\n",
              "      background-color: #E8F0FE;\n",
              "      border: none;\n",
              "      border-radius: 50%;\n",
              "      cursor: pointer;\n",
              "      display: none;\n",
              "      fill: #1967D2;\n",
              "      height: 32px;\n",
              "      padding: 0 0 0 0;\n",
              "      width: 32px;\n",
              "    }\n",
              "\n",
              "    .colab-df-convert:hover {\n",
              "      background-color: #E2EBFA;\n",
              "      box-shadow: 0px 1px 2px rgba(60, 64, 67, 0.3), 0px 1px 3px 1px rgba(60, 64, 67, 0.15);\n",
              "      fill: #174EA6;\n",
              "    }\n",
              "\n",
              "    .colab-df-buttons div {\n",
              "      margin-bottom: 4px;\n",
              "    }\n",
              "\n",
              "    [theme=dark] .colab-df-convert {\n",
              "      background-color: #3B4455;\n",
              "      fill: #D2E3FC;\n",
              "    }\n",
              "\n",
              "    [theme=dark] .colab-df-convert:hover {\n",
              "      background-color: #434B5C;\n",
              "      box-shadow: 0px 1px 3px 1px rgba(0, 0, 0, 0.15);\n",
              "      filter: drop-shadow(0px 1px 2px rgba(0, 0, 0, 0.3));\n",
              "      fill: #FFFFFF;\n",
              "    }\n",
              "  </style>\n",
              "\n",
              "    <script>\n",
              "      const buttonEl =\n",
              "        document.querySelector('#df-a775e802-a86d-42eb-a34b-68f53249861f button.colab-df-convert');\n",
              "      buttonEl.style.display =\n",
              "        google.colab.kernel.accessAllowed ? 'block' : 'none';\n",
              "\n",
              "      async function convertToInteractive(key) {\n",
              "        const element = document.querySelector('#df-a775e802-a86d-42eb-a34b-68f53249861f');\n",
              "        const dataTable =\n",
              "          await google.colab.kernel.invokeFunction('convertToInteractive',\n",
              "                                                    [key], {});\n",
              "        if (!dataTable) return;\n",
              "\n",
              "        const docLinkHtml = 'Like what you see? Visit the ' +\n",
              "          '<a target=\"_blank\" href=https://colab.research.google.com/notebooks/data_table.ipynb>data table notebook</a>'\n",
              "          + ' to learn more about interactive tables.';\n",
              "        element.innerHTML = '';\n",
              "        dataTable['output_type'] = 'display_data';\n",
              "        await google.colab.output.renderOutput(dataTable, element);\n",
              "        const docLink = document.createElement('div');\n",
              "        docLink.innerHTML = docLinkHtml;\n",
              "        element.appendChild(docLink);\n",
              "      }\n",
              "    </script>\n",
              "  </div>\n",
              "\n",
              "\n",
              "    </div>\n",
              "  </div>\n"
            ],
            "application/vnd.google.colaboratory.intrinsic+json": {
              "type": "dataframe",
              "repr_error": "Out of range float values are not JSON compliant: nan"
            }
          },
          "metadata": {},
          "execution_count": 7
        }
      ],
      "source": [
        "# Check for duplicates\n",
        "df[df[\"user_id\"].duplicated()]"
      ]
    },
    {
      "cell_type": "markdown",
      "metadata": {
        "id": "wCd5psY5I9ir"
      },
      "source": [
        "## A/B Testing\n",
        "\n",
        "Si la campaña fue exitosa, ¿cuánto de ese éxito podría atribuirse a los anuncios?"
      ]
    },
    {
      "cell_type": "markdown",
      "metadata": {
        "id": "LpGYkaa_I9ir"
      },
      "source": [
        "### 1. Define the test objective and hypothesis\n",
        "\n",
        "- Objetivo: determinar si los anuncios son efectivos en aumentar la tasa de conversión\n",
        "\n",
        "- Hipótesis nula: la tasa de conversión del grupo de control es la misma que la tasa de conversión del grupo experimental (Los anuncios no tuvieron efecto)\n",
        "\n",
        "- Hipótesis alternativa: la tasa de conversión del grupo de control es diferente de la tasa de conversión del grupo experimental (Los anuncios tuvieron efecto)"
      ]
    },
    {
      "cell_type": "markdown",
      "metadata": {
        "id": "Ua6e-7ktI9is"
      },
      "source": [
        "### 2. Choose outcome (evaluation metric)\n",
        "\n",
        "- Métrica de evaluación: tasa de conversión\n",
        "\n",
        "- Métricas invariantes: total de anuncios, hora del día con más anuncios\n"
      ]
    },
    {
      "cell_type": "markdown",
      "metadata": {
        "id": "AfdU1OEvI9is"
      },
      "source": [
        "### 3. Set statistical quantities\n",
        "\n",
        "- Nivel de significancia estadística: 0.05\n",
        "- Poder estadístico: 0.8\n",
        "\n",
        "También baseline y el MDE:\n",
        "\n",
        "- Tasa de conversión baseline: 0.02 (2%)\n",
        "- Total de anuncios baseline: 25\n",
        "- Hora del día con más anuncios baseline: 2PM\n",
        "- Minimum detectable effect: 0.01 (1%)"
      ]
    },
    {
      "cell_type": "code",
      "execution_count": null,
      "metadata": {
        "id": "8EGTE67EI9is"
      },
      "outputs": [],
      "source": [
        "# Baseline and statistical levels\n",
        "baseline_rate = 0.02\n",
        "baseline_total_ad = 25\n",
        "baseline_most_ad_hour = 14\n",
        "alpha = 0.05\n",
        "beta = 0.2\n",
        "power = 1 - beta\n",
        "mde = 0.01"
      ]
    },
    {
      "cell_type": "markdown",
      "metadata": {
        "id": "BbmejMJOI9it"
      },
      "source": [
        "### 4. Experiment size and duration\n",
        "   \n",
        "$$\n",
        "n_1=\\frac{(r+1)}{r} \\frac{\\sigma^2\\left(Z_{\\text{power}} + \\mathrm{Z}_{1 - \\alpha / 2}\\right)^2}{\\text{difference}^2}\n",
        "$$"
      ]
    },
    {
      "cell_type": "code",
      "execution_count": null,
      "metadata": {
        "id": "qu4kxrvmI9it",
        "colab": {
          "base_uri": "https://localhost:8080/"
        },
        "outputId": "b8729c28-d959-49a2-9406-a3e682b49b22"
      },
      "outputs": [
        {
          "output_type": "stream",
          "name": "stdout",
          "text": [
            "Minimum sample size required on each group: 3827\n"
          ]
        }
      ],
      "source": [
        "# Standard normal distribution\n",
        "standard_norm = stats.norm(0, 1)\n",
        "# Find Z_power from desired power\n",
        "Z_power = standard_norm.ppf(power)\n",
        "# Find Z_alpha\n",
        "Z_alpha = standard_norm.ppf(1-alpha/2)\n",
        "# Average of probabilities from both groups\n",
        "pooled_prob = (baseline_rate + baseline_rate + mde) / 2\n",
        "# Minimum sample size required on each group\n",
        "min_N = 2 * pooled_prob * (1 - pooled_prob) * (Z_power + Z_alpha)**2 / mde**2\n",
        "print(f\"Minimum sample size required on each group: {np.ceil(min_N):.0f}\")"
      ]
    },
    {
      "cell_type": "code",
      "execution_count": null,
      "metadata": {
        "id": "ticbmylHI9it",
        "colab": {
          "base_uri": "https://localhost:8080/"
        },
        "outputId": "b2b3ec19-6c1d-470d-b4aa-6801c7919c3e"
      },
      "outputs": [
        {
          "output_type": "stream",
          "name": "stdout",
          "text": [
            "Minimum sample size required with 24:1 ratio: group1 = 1993, group2 = 47830\n"
          ]
        }
      ],
      "source": [
        "# Minimum sample size required when ratios are different\n",
        "ratio = 24\n",
        "min_N = (ratio+1)/ratio * pooled_prob * (1 - pooled_prob) * (Z_power + Z_alpha)**2 / mde**2\n",
        "print(f\"Minimum sample size required with {ratio:.0f}:1 ratio: group1 = {np.ceil(min_N):.0f}, group2 = {np.ceil(min_N*ratio):.0f}\")"
      ]
    },
    {
      "cell_type": "code",
      "execution_count": null,
      "metadata": {
        "id": "zakWrDmXI9iu",
        "colab": {
          "base_uri": "https://localhost:8080/"
        },
        "outputId": "f3864fca-d44a-470b-fd28-967001698383"
      },
      "outputs": [
        {
          "output_type": "stream",
          "name": "stdout",
          "text": [
            "Days required to reach minimum sample size: 10\n"
          ]
        }
      ],
      "source": [
        "# Days required to reach minimum sample size\n",
        "daily_traffic = 5000\n",
        "days = min_N*(ratio+1) / daily_traffic\n",
        "print(f\"Days required to reach minimum sample size: {np.ceil(days):.0f}\")"
      ]
    },
    {
      "cell_type": "markdown",
      "metadata": {
        "id": "R0WMpBc_I9iu"
      },
      "source": [
        "### 5. Randomize"
      ]
    },
    {
      "cell_type": "code",
      "source": [
        "# Total users in each group\n",
        "total_ad = df.loc[df[\"test_group\"] == \"ad\", \"user_id\"].count()\n",
        "total_no_ad = df.loc[df[\"test_group\"] == \"psa\", \"user_id\"].count()\n",
        "# Total converted users in each group\n",
        "converted_ad = df.loc[df[\"test_group\"] == \"ad\", \"converted\"].sum()\n",
        "converted_no_ad = df.loc[df[\"test_group\"] == \"psa\", \"converted\"].sum()\n",
        "# Conversion rate in each group\n",
        "mean_ad = converted_ad / total_ad\n",
        "mean_no_ad = converted_no_ad / total_no_ad\n",
        "# Difference in conversion rate\n",
        "diff = mean_ad - mean_no_ad\n",
        "print(f\"Total users in each group: ad = {total_ad:.0f}, no_ad = {total_no_ad:.0f}\")\n",
        "print(f\"Ratio between groups: {total_ad/total_no_ad:.0f}:1\")"
      ],
      "metadata": {
        "colab": {
          "base_uri": "https://localhost:8080/"
        },
        "id": "2hhISjyOE8Vi",
        "outputId": "dbba210a-e53a-45c0-e04f-ee6d312a7988"
      },
      "execution_count": null,
      "outputs": [
        {
          "output_type": "stream",
          "name": "stdout",
          "text": [
            "Total users in each group: ad = 564577, no_ad = 23524\n",
            "Ratio between groups: 24:1\n"
          ]
        }
      ]
    },
    {
      "cell_type": "markdown",
      "metadata": {
        "id": "3bIiVpaZI9iu"
      },
      "source": [
        "### 6. Analyze and interpret results\n",
        "\n",
        "$$\n",
        "\\text{CI} = \\left[\\hat{d} - Z_{1-\\frac{\\alpha}{2}} \\text{SE}_{\\text{pool}}, \\ \\ \\hat{d} + Z_{1-\\frac{\\alpha}{2}} \\text{SE}_{\\text{pool}}\\right]\n",
        "$$\n",
        "\n",
        "where $\\text{SE}_{\\text{pool}} = \\sqrt{\\operatorname{Var}(\\hat{d})}=\\sqrt{\\frac{s_A^2}{n_A}+\\frac{s_B^2}{n_B}} \\ $, $\\hat{d} = \\bar{p}_B - \\bar{p}_A \\ $, and $s^2 = p(1-p)$ (analytical formula from binomial distribution)"
      ]
    },
    {
      "cell_type": "code",
      "source": [
        "df.groupby('test_group').agg({'user_id': 'count',\n",
        "                              'converted': ['sum', 'mean'],\n",
        "                              'total_ads': 'mean',\n",
        "                              'most_ads_hour': 'mean'}).round(3)"
      ],
      "metadata": {
        "id": "eohgnY1z2_Ko",
        "colab": {
          "base_uri": "https://localhost:8080/",
          "height": 195
        },
        "outputId": "f1161b6f-bd1d-44a6-cb0d-b0ff0c9b4b4c"
      },
      "execution_count": null,
      "outputs": [
        {
          "output_type": "execute_result",
          "data": {
            "text/plain": [
              "           user_id converted        total_ads most_ads_hour\n",
              "             count       sum   mean      mean          mean\n",
              "test_group                                                 \n",
              "ad          564577     14423  0.026    24.823        14.476\n",
              "psa          23524       420  0.018    24.761        14.305"
            ],
            "text/html": [
              "\n",
              "  <div id=\"df-58c0571d-be1c-4490-aadd-e1f4dfccf95c\" class=\"colab-df-container\">\n",
              "    <div>\n",
              "<style scoped>\n",
              "    .dataframe tbody tr th:only-of-type {\n",
              "        vertical-align: middle;\n",
              "    }\n",
              "\n",
              "    .dataframe tbody tr th {\n",
              "        vertical-align: top;\n",
              "    }\n",
              "\n",
              "    .dataframe thead tr th {\n",
              "        text-align: left;\n",
              "    }\n",
              "\n",
              "    .dataframe thead tr:last-of-type th {\n",
              "        text-align: right;\n",
              "    }\n",
              "</style>\n",
              "<table border=\"1\" class=\"dataframe\">\n",
              "  <thead>\n",
              "    <tr>\n",
              "      <th></th>\n",
              "      <th>user_id</th>\n",
              "      <th colspan=\"2\" halign=\"left\">converted</th>\n",
              "      <th>total_ads</th>\n",
              "      <th>most_ads_hour</th>\n",
              "    </tr>\n",
              "    <tr>\n",
              "      <th></th>\n",
              "      <th>count</th>\n",
              "      <th>sum</th>\n",
              "      <th>mean</th>\n",
              "      <th>mean</th>\n",
              "      <th>mean</th>\n",
              "    </tr>\n",
              "    <tr>\n",
              "      <th>test_group</th>\n",
              "      <th></th>\n",
              "      <th></th>\n",
              "      <th></th>\n",
              "      <th></th>\n",
              "      <th></th>\n",
              "    </tr>\n",
              "  </thead>\n",
              "  <tbody>\n",
              "    <tr>\n",
              "      <th>ad</th>\n",
              "      <td>564577</td>\n",
              "      <td>14423</td>\n",
              "      <td>0.026</td>\n",
              "      <td>24.823</td>\n",
              "      <td>14.476</td>\n",
              "    </tr>\n",
              "    <tr>\n",
              "      <th>psa</th>\n",
              "      <td>23524</td>\n",
              "      <td>420</td>\n",
              "      <td>0.018</td>\n",
              "      <td>24.761</td>\n",
              "      <td>14.305</td>\n",
              "    </tr>\n",
              "  </tbody>\n",
              "</table>\n",
              "</div>\n",
              "    <div class=\"colab-df-buttons\">\n",
              "\n",
              "  <div class=\"colab-df-container\">\n",
              "    <button class=\"colab-df-convert\" onclick=\"convertToInteractive('df-58c0571d-be1c-4490-aadd-e1f4dfccf95c')\"\n",
              "            title=\"Convert this dataframe to an interactive table.\"\n",
              "            style=\"display:none;\">\n",
              "\n",
              "  <svg xmlns=\"http://www.w3.org/2000/svg\" height=\"24px\" viewBox=\"0 -960 960 960\">\n",
              "    <path d=\"M120-120v-720h720v720H120Zm60-500h600v-160H180v160Zm220 220h160v-160H400v160Zm0 220h160v-160H400v160ZM180-400h160v-160H180v160Zm440 0h160v-160H620v160ZM180-180h160v-160H180v160Zm440 0h160v-160H620v160Z\"/>\n",
              "  </svg>\n",
              "    </button>\n",
              "\n",
              "  <style>\n",
              "    .colab-df-container {\n",
              "      display:flex;\n",
              "      gap: 12px;\n",
              "    }\n",
              "\n",
              "    .colab-df-convert {\n",
              "      background-color: #E8F0FE;\n",
              "      border: none;\n",
              "      border-radius: 50%;\n",
              "      cursor: pointer;\n",
              "      display: none;\n",
              "      fill: #1967D2;\n",
              "      height: 32px;\n",
              "      padding: 0 0 0 0;\n",
              "      width: 32px;\n",
              "    }\n",
              "\n",
              "    .colab-df-convert:hover {\n",
              "      background-color: #E2EBFA;\n",
              "      box-shadow: 0px 1px 2px rgba(60, 64, 67, 0.3), 0px 1px 3px 1px rgba(60, 64, 67, 0.15);\n",
              "      fill: #174EA6;\n",
              "    }\n",
              "\n",
              "    .colab-df-buttons div {\n",
              "      margin-bottom: 4px;\n",
              "    }\n",
              "\n",
              "    [theme=dark] .colab-df-convert {\n",
              "      background-color: #3B4455;\n",
              "      fill: #D2E3FC;\n",
              "    }\n",
              "\n",
              "    [theme=dark] .colab-df-convert:hover {\n",
              "      background-color: #434B5C;\n",
              "      box-shadow: 0px 1px 3px 1px rgba(0, 0, 0, 0.15);\n",
              "      filter: drop-shadow(0px 1px 2px rgba(0, 0, 0, 0.3));\n",
              "      fill: #FFFFFF;\n",
              "    }\n",
              "  </style>\n",
              "\n",
              "    <script>\n",
              "      const buttonEl =\n",
              "        document.querySelector('#df-58c0571d-be1c-4490-aadd-e1f4dfccf95c button.colab-df-convert');\n",
              "      buttonEl.style.display =\n",
              "        google.colab.kernel.accessAllowed ? 'block' : 'none';\n",
              "\n",
              "      async function convertToInteractive(key) {\n",
              "        const element = document.querySelector('#df-58c0571d-be1c-4490-aadd-e1f4dfccf95c');\n",
              "        const dataTable =\n",
              "          await google.colab.kernel.invokeFunction('convertToInteractive',\n",
              "                                                    [key], {});\n",
              "        if (!dataTable) return;\n",
              "\n",
              "        const docLinkHtml = 'Like what you see? Visit the ' +\n",
              "          '<a target=\"_blank\" href=https://colab.research.google.com/notebooks/data_table.ipynb>data table notebook</a>'\n",
              "          + ' to learn more about interactive tables.';\n",
              "        element.innerHTML = '';\n",
              "        dataTable['output_type'] = 'display_data';\n",
              "        await google.colab.output.renderOutput(dataTable, element);\n",
              "        const docLink = document.createElement('div');\n",
              "        docLink.innerHTML = docLinkHtml;\n",
              "        element.appendChild(docLink);\n",
              "      }\n",
              "    </script>\n",
              "  </div>\n",
              "\n",
              "\n",
              "<div id=\"df-b25354b9-878a-460d-8539-0ad31daf0e5a\">\n",
              "  <button class=\"colab-df-quickchart\" onclick=\"quickchart('df-b25354b9-878a-460d-8539-0ad31daf0e5a')\"\n",
              "            title=\"Suggest charts\"\n",
              "            style=\"display:none;\">\n",
              "\n",
              "<svg xmlns=\"http://www.w3.org/2000/svg\" height=\"24px\"viewBox=\"0 0 24 24\"\n",
              "     width=\"24px\">\n",
              "    <g>\n",
              "        <path d=\"M19 3H5c-1.1 0-2 .9-2 2v14c0 1.1.9 2 2 2h14c1.1 0 2-.9 2-2V5c0-1.1-.9-2-2-2zM9 17H7v-7h2v7zm4 0h-2V7h2v10zm4 0h-2v-4h2v4z\"/>\n",
              "    </g>\n",
              "</svg>\n",
              "  </button>\n",
              "\n",
              "<style>\n",
              "  .colab-df-quickchart {\n",
              "      --bg-color: #E8F0FE;\n",
              "      --fill-color: #1967D2;\n",
              "      --hover-bg-color: #E2EBFA;\n",
              "      --hover-fill-color: #174EA6;\n",
              "      --disabled-fill-color: #AAA;\n",
              "      --disabled-bg-color: #DDD;\n",
              "  }\n",
              "\n",
              "  [theme=dark] .colab-df-quickchart {\n",
              "      --bg-color: #3B4455;\n",
              "      --fill-color: #D2E3FC;\n",
              "      --hover-bg-color: #434B5C;\n",
              "      --hover-fill-color: #FFFFFF;\n",
              "      --disabled-bg-color: #3B4455;\n",
              "      --disabled-fill-color: #666;\n",
              "  }\n",
              "\n",
              "  .colab-df-quickchart {\n",
              "    background-color: var(--bg-color);\n",
              "    border: none;\n",
              "    border-radius: 50%;\n",
              "    cursor: pointer;\n",
              "    display: none;\n",
              "    fill: var(--fill-color);\n",
              "    height: 32px;\n",
              "    padding: 0;\n",
              "    width: 32px;\n",
              "  }\n",
              "\n",
              "  .colab-df-quickchart:hover {\n",
              "    background-color: var(--hover-bg-color);\n",
              "    box-shadow: 0 1px 2px rgba(60, 64, 67, 0.3), 0 1px 3px 1px rgba(60, 64, 67, 0.15);\n",
              "    fill: var(--button-hover-fill-color);\n",
              "  }\n",
              "\n",
              "  .colab-df-quickchart-complete:disabled,\n",
              "  .colab-df-quickchart-complete:disabled:hover {\n",
              "    background-color: var(--disabled-bg-color);\n",
              "    fill: var(--disabled-fill-color);\n",
              "    box-shadow: none;\n",
              "  }\n",
              "\n",
              "  .colab-df-spinner {\n",
              "    border: 2px solid var(--fill-color);\n",
              "    border-color: transparent;\n",
              "    border-bottom-color: var(--fill-color);\n",
              "    animation:\n",
              "      spin 1s steps(1) infinite;\n",
              "  }\n",
              "\n",
              "  @keyframes spin {\n",
              "    0% {\n",
              "      border-color: transparent;\n",
              "      border-bottom-color: var(--fill-color);\n",
              "      border-left-color: var(--fill-color);\n",
              "    }\n",
              "    20% {\n",
              "      border-color: transparent;\n",
              "      border-left-color: var(--fill-color);\n",
              "      border-top-color: var(--fill-color);\n",
              "    }\n",
              "    30% {\n",
              "      border-color: transparent;\n",
              "      border-left-color: var(--fill-color);\n",
              "      border-top-color: var(--fill-color);\n",
              "      border-right-color: var(--fill-color);\n",
              "    }\n",
              "    40% {\n",
              "      border-color: transparent;\n",
              "      border-right-color: var(--fill-color);\n",
              "      border-top-color: var(--fill-color);\n",
              "    }\n",
              "    60% {\n",
              "      border-color: transparent;\n",
              "      border-right-color: var(--fill-color);\n",
              "    }\n",
              "    80% {\n",
              "      border-color: transparent;\n",
              "      border-right-color: var(--fill-color);\n",
              "      border-bottom-color: var(--fill-color);\n",
              "    }\n",
              "    90% {\n",
              "      border-color: transparent;\n",
              "      border-bottom-color: var(--fill-color);\n",
              "    }\n",
              "  }\n",
              "</style>\n",
              "\n",
              "  <script>\n",
              "    async function quickchart(key) {\n",
              "      const quickchartButtonEl =\n",
              "        document.querySelector('#' + key + ' button');\n",
              "      quickchartButtonEl.disabled = true;  // To prevent multiple clicks.\n",
              "      quickchartButtonEl.classList.add('colab-df-spinner');\n",
              "      try {\n",
              "        const charts = await google.colab.kernel.invokeFunction(\n",
              "            'suggestCharts', [key], {});\n",
              "      } catch (error) {\n",
              "        console.error('Error during call to suggestCharts:', error);\n",
              "      }\n",
              "      quickchartButtonEl.classList.remove('colab-df-spinner');\n",
              "      quickchartButtonEl.classList.add('colab-df-quickchart-complete');\n",
              "    }\n",
              "    (() => {\n",
              "      let quickchartButtonEl =\n",
              "        document.querySelector('#df-b25354b9-878a-460d-8539-0ad31daf0e5a button');\n",
              "      quickchartButtonEl.style.display =\n",
              "        google.colab.kernel.accessAllowed ? 'block' : 'none';\n",
              "    })();\n",
              "  </script>\n",
              "</div>\n",
              "\n",
              "    </div>\n",
              "  </div>\n"
            ],
            "application/vnd.google.colaboratory.intrinsic+json": {
              "type": "dataframe",
              "summary": "{\n  \"name\": \"                              'most_ads_hour': 'mean'})\",\n  \"rows\": 2,\n  \"fields\": [\n    {\n      \"column\": [\n        \"test_group\",\n        \"\"\n      ],\n      \"properties\": {\n        \"dtype\": \"string\",\n        \"num_unique_values\": 2,\n        \"samples\": [\n          \"psa\",\n          \"ad\"\n        ],\n        \"semantic_type\": \"\",\n        \"description\": \"\"\n      }\n    },\n    {\n      \"column\": [\n        \"user_id\",\n        \"count\"\n      ],\n      \"properties\": {\n        \"dtype\": \"number\",\n        \"std\": 382582,\n        \"min\": 23524,\n        \"max\": 564577,\n        \"num_unique_values\": 2,\n        \"samples\": [\n          23524,\n          564577\n        ],\n        \"semantic_type\": \"\",\n        \"description\": \"\"\n      }\n    },\n    {\n      \"column\": [\n        \"converted\",\n        \"sum\"\n      ],\n      \"properties\": {\n        \"dtype\": \"number\",\n        \"std\": 9901,\n        \"min\": 420,\n        \"max\": 14423,\n        \"num_unique_values\": 2,\n        \"samples\": [\n          420,\n          14423\n        ],\n        \"semantic_type\": \"\",\n        \"description\": \"\"\n      }\n    },\n    {\n      \"column\": [\n        \"converted\",\n        \"mean\"\n      ],\n      \"properties\": {\n        \"dtype\": \"number\",\n        \"std\": 0.00565685424949238,\n        \"min\": 0.018,\n        \"max\": 0.026,\n        \"num_unique_values\": 2,\n        \"samples\": [\n          0.018,\n          0.026\n        ],\n        \"semantic_type\": \"\",\n        \"description\": \"\"\n      }\n    },\n    {\n      \"column\": [\n        \"total_ads\",\n        \"mean\"\n      ],\n      \"properties\": {\n        \"dtype\": \"number\",\n        \"std\": 0.04384062043356677,\n        \"min\": 24.761,\n        \"max\": 24.823,\n        \"num_unique_values\": 2,\n        \"samples\": [\n          24.761,\n          24.823\n        ],\n        \"semantic_type\": \"\",\n        \"description\": \"\"\n      }\n    },\n    {\n      \"column\": [\n        \"most_ads_hour\",\n        \"mean\"\n      ],\n      \"properties\": {\n        \"dtype\": \"number\",\n        \"std\": 0.12091525958290043,\n        \"min\": 14.305,\n        \"max\": 14.476,\n        \"num_unique_values\": 2,\n        \"samples\": [\n          14.305,\n          14.476\n        ],\n        \"semantic_type\": \"\",\n        \"description\": \"\"\n      }\n    }\n  ]\n}"
            }
          },
          "metadata": {},
          "execution_count": 21
        }
      ]
    },
    {
      "cell_type": "code",
      "source": [
        "print(f\"Mean conversion rate for AD group: {mean_ad:.4f} or {mean_ad*100:.1f}%\")\n",
        "print(f\"Mean conversion rate for PSA group: {mean_no_ad:.4f} or {mean_no_ad*100:.1f}%\")\n",
        "print(f\"Difference in conversion rates: {diff:.4f} or {diff*100:.1f}%\")"
      ],
      "metadata": {
        "id": "xS9Y1NHY3Atu",
        "colab": {
          "base_uri": "https://localhost:8080/"
        },
        "outputId": "8ab5424c-fb49-4a6c-e2d9-9b892894077d"
      },
      "execution_count": null,
      "outputs": [
        {
          "output_type": "stream",
          "name": "stdout",
          "text": [
            "Mean conversion rate for AD group: 0.0255 or 2.6%\n",
            "Mean conversion rate for PSA group: 0.0179 or 1.8%\n",
            "Difference in conversion rates: 0.0077 or 0.8%\n"
          ]
        }
      ]
    },
    {
      "cell_type": "code",
      "execution_count": null,
      "metadata": {
        "id": "PvZ1axLSI9iu",
        "colab": {
          "base_uri": "https://localhost:8080/",
          "height": 332
        },
        "outputId": "7256a354-4508-4169-caf3-a39ca74ca892"
      },
      "outputs": [
        {
          "output_type": "display_data",
          "data": {
            "text/plain": [
              "<Figure size 600x300 with 1 Axes>"
            ],
            "image/png": "[encoded data removed]"
          },
          "metadata": {}
        }
      ],
      "source": [
        "# Standard error in each group\n",
        "se_ad = np.sqrt(mean_ad * (1-mean_ad)) / np.sqrt(total_ad)\n",
        "se_no_ad = np.sqrt(mean_no_ad * (1-mean_no_ad)) / np.sqrt(total_no_ad)\n",
        "\n",
        "# Plot conversion rates\n",
        "fig, ax = plt.subplots(figsize=(6,3))\n",
        "x = np.linspace(0.01, 0.04, 1000)\n",
        "yA = stats.norm(mean_ad, se_ad).pdf(x)\n",
        "ax.plot(x, yA, c='red', label='AD Group')\n",
        "ax.axvline(x=mean_ad, c='red', alpha=0.5, linestyle='--')\n",
        "yB = stats.norm(mean_no_ad, se_no_ad).pdf(x)\n",
        "ax.plot(x, yB, c='blue', label='PSA Group')\n",
        "ax.axvline(x=mean_no_ad, c='blue', alpha=0.5, linestyle='--')\n",
        "plt.xlabel('Converted Proportion')\n",
        "plt.legend()\n",
        "plt.show()"
      ]
    },
    {
      "cell_type": "code",
      "execution_count": null,
      "metadata": {
        "id": "bfRcN9btI9iv",
        "colab": {
          "base_uri": "https://localhost:8080/"
        },
        "outputId": "51dd989f-098a-4abd-9f49-11e76aff9957"
      },
      "outputs": [
        {
          "output_type": "stream",
          "name": "stdout",
          "text": [
            "Confidence interval: 0.0060 to 0.0094\n"
          ]
        }
      ],
      "source": [
        "se_pooled = np.sqrt(mean_ad*(1-mean_ad)/total_ad + mean_no_ad*(1-mean_no_ad)/total_no_ad)\n",
        "ci = (diff - Z_alpha*se_pooled, diff + Z_alpha*se_pooled)\n",
        "print(f\"Confidence interval: {ci[0]:.4f} to {ci[1]:.4f}\")"
      ]
    },
    {
      "cell_type": "code",
      "execution_count": null,
      "metadata": {
        "id": "dvr0m9kjI9iv",
        "colab": {
          "base_uri": "https://localhost:8080/"
        },
        "outputId": "3f58aa12-cae4-40d1-bb26-f5670689cee6"
      },
      "outputs": [
        {
          "output_type": "stream",
          "name": "stdout",
          "text": [
            "t-statistic: 7.3704 with p-value: 0.0000\n"
          ]
        }
      ],
      "source": [
        "# This is the same as regression\n",
        "t_results = stats.ttest_ind(df.loc[df[\"test_group\"] == \"ad\", \"converted\"]*1,\n",
        "                            df.loc[df[\"test_group\"] == \"psa\", \"converted\"]*1)\n",
        "print(f\"t-statistic: {t_results.statistic:.4f} with p-value: {t_results.pvalue:.4f}\")"
      ]
    },
    {
      "cell_type": "code",
      "execution_count": null,
      "metadata": {
        "id": "fPklNQazI9iv",
        "colab": {
          "base_uri": "https://localhost:8080/"
        },
        "outputId": "276ac763-e875-4346-8303-8bf7191c3ea7"
      },
      "outputs": [
        {
          "output_type": "stream",
          "name": "stdout",
          "text": [
            "Welch's t-statistic: 8.6572 with p-value: 0.0000\n"
          ]
        }
      ],
      "source": [
        "# Welch's t-test\n",
        "t_results = stats.ttest_ind(df.loc[df[\"test_group\"] == \"ad\", \"converted\"]*1,\n",
        "                            df.loc[df[\"test_group\"] == \"psa\", \"converted\"]*1,\n",
        "                            equal_var=False)\n",
        "print(f\"Welch's t-statistic: {t_results.statistic:.4f} with p-value: {t_results.pvalue:.4f}\")"
      ]
    },
    {
      "cell_type": "markdown",
      "metadata": {
        "id": "j17sec5gI9iv"
      },
      "source": [
        "**Conclusions:**\n",
        "\n",
        "- Si el intervalo de confianza no contiene cero, podemos rechazar la hipótesis nula y concluir que los anuncios tuvieron un efecto en la tasa de conversión.\n",
        "\n",
        "- Si realizamos el experimento muchas veces, esperaríamos que el intervalo de confianza contenga el efecto verdadero el 95% de las veces.\n",
        "\n",
        "- Esto no es lo mismo que decir que estamos 95% seguros de que el efecto verdadero está contenido en el intervalo de confianza (para eso necesitarías un enfoque bayesiano).\n",
        "\n",
        "- Significancia práctica: si los anuncios tuvieron un efecto, ¿qué tan grande fue? ¿Vale la pena el costo de la campaña para un efecto de una tasa de conversión de 0.5 a 1%?"
      ]
    },
    {
      "cell_type": "markdown",
      "metadata": {
        "id": "IBjMJnxHI9iv"
      },
      "source": [
        "**TO DO: Sanity Checks**\n",
        "\n",
        "Verifique si las métricas invariantes son similares entre los grupos. Calcule el estadístico t y el valor p para cada métrica invariante y proporcione una conclusión."
      ]
    },
    {
      "cell_type": "code",
      "execution_count": null,
      "metadata": {
        "id": "L83gLxIWI9iv",
        "colab": {
          "base_uri": "https://localhost:8080/"
        },
        "outputId": "c5dc8f9f-a767-4eeb-db87-6091d0b2fe39"
      },
      "outputs": [
        {
          "output_type": "stream",
          "name": "stdout",
          "text": [
            "t-statistic: 0.2139 with p-value: 0.8306\n"
          ]
        }
      ],
      "source": [
        "# Invariant metric: total_ads\n",
        "t_results = stats.ttest_ind(df.loc[df[\"test_group\"] == \"ad\", \"total_ads\"],\n",
        "                            df.loc[df[\"test_group\"] == \"psa\", \"total_ads\"])\n",
        "print(f\"t-statistic: {t_results.statistic:.4f} with p-value: {t_results.pvalue:.4f}\")"
      ]
    },
    {
      "cell_type": "code",
      "execution_count": null,
      "metadata": {
        "id": "i_AFCHg5I9iw",
        "colab": {
          "base_uri": "https://localhost:8080/"
        },
        "outputId": "8873b806-6a93-4942-f88b-3e36e403a272"
      },
      "outputs": [
        {
          "output_type": "stream",
          "name": "stdout",
          "text": [
            "t-statistic: 5.3147 with p-value: 0.0000\n"
          ]
        }
      ],
      "source": [
        "# Invariant metric: most_ads_hour\n",
        "t_results = stats.ttest_ind(df.loc[df[\"test_group\"] == \"ad\", \"most_ads_hour\"],\n",
        "                            df.loc[df[\"test_group\"] == \"psa\", \"most_ads_hour\"])\n",
        "print(f\"t-statistic: {t_results.statistic:.4f} with p-value: {t_results.pvalue:.4f}\")"
      ]
    },
    {
      "cell_type": "markdown",
      "metadata": {
        "id": "QjBkegZGI9iw"
      },
      "source": [
        "## Bootstrap\n",
        "\n",
        "Si el tamaño de la muestra es pequeño, podemos usar el bootstrap para estimar el intervalo de confianza."
      ]
    },
    {
      "cell_type": "code",
      "execution_count": null,
      "metadata": {
        "id": "KGwDbXYLI9iw",
        "colab": {
          "base_uri": "https://localhost:8080/"
        },
        "outputId": "5c6037b3-d60f-421c-dc7d-218507c7c1ff"
      },
      "outputs": [
        {
          "output_type": "stream",
          "name": "stdout",
          "text": [
            "Bootstrap confidence interval: 0.0063 to 0.0096\n"
          ]
        }
      ],
      "source": [
        "# Bootstrap A/B testing\n",
        "n = 100 # it should be 1 million\n",
        "boot_diff = []\n",
        "\n",
        "for _ in range(n):\n",
        "    sample = df.sample(frac=1, replace=True)\n",
        "    ad = sample.loc[sample.test_group == 'ad', 'converted'].mean()\n",
        "    psa = sample.loc[sample.test_group == 'psa', 'converted'].mean()\n",
        "    boot_diff.append(ad - psa)\n",
        "\n",
        "ci = np.percentile(boot_diff, [alpha/2*100, (1-alpha/2)*100])\n",
        "print(f\"Bootstrap confidence interval: {ci[0]:.4f} to {ci[1]:.4f}\")"
      ]
    },
    {
      "cell_type": "markdown",
      "metadata": {
        "id": "aMw54YlWI9iw"
      },
      "source": [
        "**TO DO: Sanity Checks with Bootstrap**\n",
        "\n",
        "Verifique si las métricas invariantes son similares entre los grupos usando bootstrap. Calcule el intervalo de confianza para cada métrica invariante y proporcione una conclusión."
      ]
    },
    {
      "cell_type": "code",
      "execution_count": null,
      "metadata": {
        "id": "mPMS567zI9iw"
      },
      "outputs": [],
      "source": [
        "# Bootstrap A/B testing: total_ads\n",
        "n = 100\n",
        "boot_diff = []\n",
        "\n",
        "for _ in range(n):\n",
        "\n",
        "\n",
        "ci = np.percentile(boot_diff, [alpha/2*100, (1-alpha/2)*100])\n",
        "print(f\"Bootstrap confidence interval: {ci[0]:.4f} to {ci[1]:.4f}\")"
      ]
    },
    {
      "cell_type": "code",
      "execution_count": null,
      "metadata": {
        "id": "dvmqcOr4I9ix"
      },
      "outputs": [],
      "source": [
        "# Bootstrap A/B testing: most_ads_hour\n"
      ]
    },
    {
      "cell_type": "markdown",
      "metadata": {
        "id": "ynry7sYyI9ix"
      },
      "source": [
        "## [Quantile A/B Testing](https://engineering.atspotify.com/2022/03/comparing-quantiles-at-scale-in-online-a-b-testing/)\n",
        "\n",
        "Si nos importan más los extremos de la distribución, podemos usar pruebas A/B de cuantiles."
      ]
    },
    {
      "cell_type": "code",
      "execution_count": null,
      "metadata": {
        "id": "Mq8NHwGZI9ix"
      },
      "outputs": [],
      "source": [
        "import numpy.random as npr\n",
        "npr.seed(42)\n",
        "\n",
        "# Simulate daily use of Spotify\n",
        "sample_size = 5000\n",
        "n_boot_samples = 50000\n",
        "daily_use_control = npr.normal(120, 60, sample_size).clip(0)\n",
        "daily_use_treatment = npr.normal(140, 45, sample_size).clip(0)\n",
        "\n",
        "# Plot the distribution of daily use\n",
        "fig, ax = plt.subplots(figsize=(6,3))\n",
        "ax.hist(daily_use_control, bins=50, alpha=0.5, label='Control')\n",
        "ax.hist(daily_use_treatment, bins=50, alpha=0.5, label='Treatment')\n",
        "plt.xlabel('Daily Use (Minutes)')\n",
        "plt.legend()\n",
        "plt.show()"
      ]
    },
    {
      "cell_type": "code",
      "execution_count": null,
      "metadata": {
        "id": "GSguO9rcI9iy"
      },
      "outputs": [],
      "source": [
        "# Bootstrap A/B testing for Difference in Means\n",
        "\n",
        "boot_diff = []\n",
        "\n",
        "for _ in range(n_boot_samples):\n",
        "    sample_control = npr.choice(daily_use_control, size=sample_size, replace=True)\n",
        "    sample_treatment = npr.choice(daily_use_treatment, size=sample_size, replace=True)\n",
        "    boot_diff.append(sample_treatment.mean() - sample_control.mean())\n",
        "\n",
        "ci = np.percentile(boot_diff, [alpha/2*100, (1-alpha/2)*100])\n",
        "print(f\"The difference in means is {daily_use_treatment.mean() - daily_use_control.mean():.4f}\")\n",
        "print(f\"Bootstrap confidence interval: {ci[0]:.4f} to {ci[1]:.4f}\")"
      ]
    },
    {
      "cell_type": "code",
      "execution_count": null,
      "metadata": {
        "id": "P1279BNQI9iz"
      },
      "outputs": [],
      "source": [
        "# Bootstrap A/B testing for Difference in Quantiles\n",
        "quantile = 0.8\n",
        "\n",
        "outcome_control_sorted = np.sort(daily_use_control)\n",
        "outcome_treatment_sorted = np.sort(daily_use_treatment)\n",
        "boot_diff_distrib = (outcome_treatment_sorted[npr.binomial(sample_size+1, quantile, n_boot_samples)]\n",
        "                     - outcome_control_sorted[npr.binomial(sample_size+1, quantile, n_boot_samples)])\n",
        "boot_ci = np.quantile(boot_diff_distrib, [alpha/2 , 1-alpha/2])\n",
        "q_diff = np.quantile(outcome_treatment_sorted, quantile) - np.quantile(outcome_control_sorted, quantile)\n",
        "\n",
        "print(f\"The difference-in-q{quantile*100:.0f} is {q_diff:.2f}.\")\n",
        "print(f\"The bootstrap confidence interval is {boot_ci[0]:.2f} to {boot_ci[1]:.2f}.\")"
      ]
    },
    {
      "cell_type": "markdown",
      "metadata": {
        "id": "R7QR9af8I9iz"
      },
      "source": [
        "**TO DO: Light Users**\n",
        "\n",
        "¿Hay un efecto para los usuarios que no usan Spotify con frecuencia? Calcule el intervalo de confianza bootstrap para el cuantil respectivo y proporcione una conclusión."
      ]
    },
    {
      "cell_type": "code",
      "execution_count": null,
      "metadata": {
        "id": "RRg5SM99I9i0"
      },
      "outputs": [],
      "source": [
        "# Bootstrap A/B testing for Difference in Quantiles\n",
        "\n",
        "\n",
        "\n",
        "\n",
        "print(f\"The difference-in-q{quantile*100:.0f} is {q_diff:.2f}.\")\n",
        "print(f\"The bootstrap confidence interval is {boot_ci[0]:.2f} to {boot_ci[1]:.2f}.\")"
      ]
    },
    {
      "cell_type": "code",
      "execution_count": null,
      "metadata": {
        "id": "ogbC2oKqI9i1"
      },
      "outputs": [],
      "source": []
    }
  ],
  "metadata": {
    "kernelspec": {
      "display_name": "causalML",
      "language": "python",
      "name": "python3"
    },
    "language_info": {
      "codemirror_mode": {
        "name": "ipython",
        "version": 3
      },
      "file_extension": ".py",
      "mimetype": "text/x-python",
      "name": "python",
      "nbconvert_exporter": "python",
      "pygments_lexer": "ipython3",
      "version": "3.9.18"
    },
    "colab": {
      "provenance": [],
      "toc_visible": true
    }
  },
  "nbformat": 4,
  "nbformat_minor": 0
}