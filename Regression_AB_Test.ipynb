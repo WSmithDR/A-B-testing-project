{
  "cells": [
    {
      "cell_type": "markdown",
      "metadata": {
        "colab_type": "text",
        "id": "view-in-github"
      },
      "source": [
        "<a href=\"https://colab.research.google.com/github/WSmithDR/A-B-testing-project/blob/main/Regression_AB_Test.ipynb\" target=\"_parent\"><img src=\"https://colab.research.google.com/assets/colab-badge.svg\" alt=\"Open In Colab\"/></a>"
      ]
    },
    {
      "cell_type": "markdown",
      "metadata": {
        "id": "c6bv1wuuVqXW"
      },
      "source": [
        "# Pruebas A/B de Marketing\n",
        "\n",
        "Campaña de marketing simple con grupo experimental y grupo de control para pruebas A/B [(Dataset de Kaggle)](https://www.kaggle.com/datasets/faviovaz/marketing-ab-testing/data).\n",
        "\n",
        "La mayoría de las personas estarán expuestas a anuncios (el grupo experimental). Y una pequeña porción de personas (el grupo de control) verían en su lugar un Anuncio de Servicio Público (PSA) (o nada) en el tamaño y lugar exactos donde normalmente estaría el anuncio.\n",
        "\n",
        "**Diccionario de datos:**\n",
        "\n",
        "- user id: ID de usuario (único)\n",
        "- test group: Si es \"ad\", la persona vio el anuncio, si es \"psa\", solo vio el anuncio de servicio público\n",
        "- converted: Si una persona compró el producto, entonces es True, de lo contrario es False\n",
        "- total ads: Cantidad de anuncios vistos por la persona\n",
        "- most ads day: Día en que la persona vio la mayor cantidad de anuncios\n",
        "- most ads hour: Hora del día en que la persona vio la mayor cantidad de anuncios"
      ]
    },
    {
      "cell_type": "code",
      "execution_count": 1,
      "metadata": {},
      "outputs": [
        {
          "name": "stdout",
          "output_type": "stream",
          "text": [
            "Requirement already satisfied: numpy in c:\\projects\\espol\\a-b-testing-project\\ab_test_project_venv\\lib\\site-packages (2.2.5)\n",
            "Requirement already satisfied: pandas in c:\\projects\\espol\\a-b-testing-project\\ab_test_project_venv\\lib\\site-packages (2.2.3)\n",
            "Requirement already satisfied: statsmodels in c:\\projects\\espol\\a-b-testing-project\\ab_test_project_venv\\lib\\site-packages (0.14.4)\n",
            "Requirement already satisfied: python-dateutil>=2.8.2 in c:\\projects\\espol\\a-b-testing-project\\ab_test_project_venv\\lib\\site-packages (from pandas) (2.9.0.post0)\n",
            "Requirement already satisfied: pytz>=2020.1 in c:\\projects\\espol\\a-b-testing-project\\ab_test_project_venv\\lib\\site-packages (from pandas) (2025.2)\n",
            "Requirement already satisfied: tzdata>=2022.7 in c:\\projects\\espol\\a-b-testing-project\\ab_test_project_venv\\lib\\site-packages (from pandas) (2025.2)\n",
            "Requirement already satisfied: scipy!=1.9.2,>=1.8 in c:\\projects\\espol\\a-b-testing-project\\ab_test_project_venv\\lib\\site-packages (from statsmodels) (1.15.2)\n",
            "Requirement already satisfied: patsy>=0.5.6 in c:\\projects\\espol\\a-b-testing-project\\ab_test_project_venv\\lib\\site-packages (from statsmodels) (1.0.1)\n",
            "Requirement already satisfied: packaging>=21.3 in c:\\projects\\espol\\a-b-testing-project\\ab_test_project_venv\\lib\\site-packages (from statsmodels) (25.0)\n",
            "Requirement already satisfied: six>=1.5 in c:\\projects\\espol\\a-b-testing-project\\ab_test_project_venv\\lib\\site-packages (from python-dateutil>=2.8.2->pandas) (1.17.0)\n",
            "Note: you may need to restart the kernel to use updated packages.\n"
          ]
        },
        {
          "name": "stderr",
          "output_type": "stream",
          "text": [
            "\n",
            "[notice] A new release of pip is available: 23.2.1 -> 25.1.1\n",
            "[notice] To update, run: python.exe -m pip install --upgrade pip\n"
          ]
        }
      ],
      "source": [
        "%pip install numpy pandas statsmodels"
      ]
    },
    {
      "cell_type": "code",
      "execution_count": 2,
      "metadata": {
        "id": "N8lokxrMVqXY"
      },
      "outputs": [],
      "source": [
        "import numpy as np\n",
        "import pandas as pd\n",
        "import statsmodels.formula.api as smf"
      ]
    },
    {
      "cell_type": "markdown",
      "metadata": {
        "id": "CGdEhcZ2VqXZ"
      },
      "source": [
        "## Check the data"
      ]
    },
    {
      "cell_type": "code",
      "execution_count": 3,
      "metadata": {
        "colab": {
          "base_uri": "https://localhost:8080/",
          "height": 204
        },
        "id": "UyrPoeK8VqXZ",
        "outputId": "4cfab7d1-f20c-4548-dd82-ed57d345a1c8"
      },
      "outputs": [
        {
          "data": {
            "text/html": [
              "<div>\n",
              "<style scoped>\n",
              "    .dataframe tbody tr th:only-of-type {\n",
              "        vertical-align: middle;\n",
              "    }\n",
              "\n",
              "    .dataframe tbody tr th {\n",
              "        vertical-align: top;\n",
              "    }\n",
              "\n",
              "    .dataframe thead th {\n",
              "        text-align: right;\n",
              "    }\n",
              "</style>\n",
              "<table border=\"1\" class=\"dataframe\">\n",
              "  <thead>\n",
              "    <tr style=\"text-align: right;\">\n",
              "      <th></th>\n",
              "      <th>user_id</th>\n",
              "      <th>test_group</th>\n",
              "      <th>converted</th>\n",
              "      <th>total_ads</th>\n",
              "      <th>most_ads_day</th>\n",
              "      <th>most_ads_hour</th>\n",
              "      <th>treatment</th>\n",
              "    </tr>\n",
              "  </thead>\n",
              "  <tbody>\n",
              "    <tr>\n",
              "      <th>0</th>\n",
              "      <td>1069124</td>\n",
              "      <td>ad</td>\n",
              "      <td>0</td>\n",
              "      <td>130</td>\n",
              "      <td>Monday</td>\n",
              "      <td>20</td>\n",
              "      <td>1</td>\n",
              "    </tr>\n",
              "    <tr>\n",
              "      <th>1</th>\n",
              "      <td>1119715</td>\n",
              "      <td>ad</td>\n",
              "      <td>0</td>\n",
              "      <td>93</td>\n",
              "      <td>Tuesday</td>\n",
              "      <td>22</td>\n",
              "      <td>1</td>\n",
              "    </tr>\n",
              "    <tr>\n",
              "      <th>2</th>\n",
              "      <td>1144181</td>\n",
              "      <td>ad</td>\n",
              "      <td>0</td>\n",
              "      <td>21</td>\n",
              "      <td>Tuesday</td>\n",
              "      <td>18</td>\n",
              "      <td>1</td>\n",
              "    </tr>\n",
              "    <tr>\n",
              "      <th>3</th>\n",
              "      <td>1435133</td>\n",
              "      <td>ad</td>\n",
              "      <td>0</td>\n",
              "      <td>355</td>\n",
              "      <td>Tuesday</td>\n",
              "      <td>10</td>\n",
              "      <td>1</td>\n",
              "    </tr>\n",
              "    <tr>\n",
              "      <th>4</th>\n",
              "      <td>1015700</td>\n",
              "      <td>ad</td>\n",
              "      <td>0</td>\n",
              "      <td>276</td>\n",
              "      <td>Friday</td>\n",
              "      <td>14</td>\n",
              "      <td>1</td>\n",
              "    </tr>\n",
              "  </tbody>\n",
              "</table>\n",
              "</div>"
            ],
            "text/plain": [
              "   user_id test_group  converted  total_ads most_ads_day  most_ads_hour  \\\n",
              "0  1069124         ad          0        130       Monday             20   \n",
              "1  1119715         ad          0         93      Tuesday             22   \n",
              "2  1144181         ad          0         21      Tuesday             18   \n",
              "3  1435133         ad          0        355      Tuesday             10   \n",
              "4  1015700         ad          0        276       Friday             14   \n",
              "\n",
              "   treatment  \n",
              "0          1  \n",
              "1          1  \n",
              "2          1  \n",
              "3          1  \n",
              "4          1  "
            ]
          },
          "execution_count": 3,
          "metadata": {},
          "output_type": "execute_result"
        }
      ],
      "source": [
        "# Read data and clean up column names\n",
        "path_data = 'https://github.com/pabloestradac/experimentation-notebooks/raw/main/data/'\n",
        "df = pd.read_csv(path_data + 'marketing_campaign.csv', index_col=0)\n",
        "df = df.rename(columns=lambda x: x.strip().replace(\" \", \"_\"))\n",
        "df['treatment'] = np.where(df['test_group'] == 'ad', 1, 0)\n",
        "df['converted'] = df['converted'].astype(int)\n",
        "df.head()"
      ]
    },
    {
      "cell_type": "markdown",
      "metadata": {
        "id": "XhGvuGHKVqXa"
      },
      "source": [
        "## Regression for A/B Testing\n",
        "\n",
        "Si la campaña fue exitosa, ¿cuánto de ese éxito podría atribuirse a los anuncios?\n",
        "\n",
        "1. Corre la siguiente regresion, e imprime los resultados.\n",
        "\n",
        "$$\n",
        "\\text{converted} = \\beta_0 + \\beta_1 \\text{treatment} + \\epsilon\n",
        "$$\n",
        "\n",
        "2. ¿Que puedes concluir de los resultados de la regresion?\n",
        "\n",
        "3. ¿Como se comparan estos resultados con el test de diferencia de medias e intervalos de confianza que obtuvimos en el primer notebook de A/B Test?"
      ]
    },
    {
      "cell_type": "code",
      "execution_count": 4,
      "metadata": {
        "id": "AztmviGJWl4m"
      },
      "outputs": [],
      "source": [
        "model1 = smf.ols('converted ~ treatment', data=df).fit()"
      ]
    },
    {
      "cell_type": "code",
      "execution_count": 5,
      "metadata": {},
      "outputs": [
        {
          "data": {
            "text/html": [
              "<table class=\"simpletable\">\n",
              "<caption>OLS Regression Results</caption>\n",
              "<tr>\n",
              "  <th>Dep. Variable:</th>        <td>converted</td>    <th>  R-squared:         </th>  <td>   0.000</td> \n",
              "</tr>\n",
              "<tr>\n",
              "  <th>Model:</th>                   <td>OLS</td>       <th>  Adj. R-squared:    </th>  <td>   0.000</td> \n",
              "</tr>\n",
              "<tr>\n",
              "  <th>Method:</th>             <td>Least Squares</td>  <th>  F-statistic:       </th>  <td>   54.32</td> \n",
              "</tr>\n",
              "<tr>\n",
              "  <th>Date:</th>             <td>Sun, 04 May 2025</td> <th>  Prob (F-statistic):</th>  <td>1.70e-13</td> \n",
              "</tr>\n",
              "<tr>\n",
              "  <th>Time:</th>                 <td>10:31:46</td>     <th>  Log-Likelihood:    </th> <td>2.5499e+05</td>\n",
              "</tr>\n",
              "<tr>\n",
              "  <th>No. Observations:</th>      <td>588101</td>      <th>  AIC:               </th> <td>-5.100e+05</td>\n",
              "</tr>\n",
              "<tr>\n",
              "  <th>Df Residuals:</th>          <td>588099</td>      <th>  BIC:               </th> <td>-5.099e+05</td>\n",
              "</tr>\n",
              "<tr>\n",
              "  <th>Df Model:</th>              <td>     1</td>      <th>                     </th>      <td> </td>    \n",
              "</tr>\n",
              "<tr>\n",
              "  <th>Covariance Type:</th>      <td>nonrobust</td>    <th>                     </th>      <td> </td>    \n",
              "</tr>\n",
              "</table>\n",
              "<table class=\"simpletable\">\n",
              "<tr>\n",
              "      <td></td>         <th>coef</th>     <th>std err</th>      <th>t</th>      <th>P>|t|</th>  <th>[0.025</th>    <th>0.975]</th>  \n",
              "</tr>\n",
              "<tr>\n",
              "  <th>Intercept</th> <td>    0.0179</td> <td>    0.001</td> <td>   17.459</td> <td> 0.000</td> <td>    0.016</td> <td>    0.020</td>\n",
              "</tr>\n",
              "<tr>\n",
              "  <th>treatment</th> <td>    0.0077</td> <td>    0.001</td> <td>    7.370</td> <td> 0.000</td> <td>    0.006</td> <td>    0.010</td>\n",
              "</tr>\n",
              "</table>\n",
              "<table class=\"simpletable\">\n",
              "<tr>\n",
              "  <th>Omnibus:</th>       <td>650946.201</td> <th>  Durbin-Watson:     </th>   <td>   1.975</td>  \n",
              "</tr>\n",
              "<tr>\n",
              "  <th>Prob(Omnibus):</th>   <td> 0.000</td>   <th>  Jarque-Bera (JB):  </th> <td>32995692.936</td>\n",
              "</tr>\n",
              "<tr>\n",
              "  <th>Skew:</th>            <td> 6.053</td>   <th>  Prob(JB):          </th>   <td>    0.00</td>  \n",
              "</tr>\n",
              "<tr>\n",
              "  <th>Kurtosis:</th>        <td>37.641</td>   <th>  Cond. No.          </th>   <td>    9.90</td>  \n",
              "</tr>\n",
              "</table><br/><br/>Notes:<br/>[1] Standard Errors assume that the covariance matrix of the errors is correctly specified."
            ],
            "text/latex": [
              "\\begin{center}\n",
              "\\begin{tabular}{lclc}\n",
              "\\toprule\n",
              "\\textbf{Dep. Variable:}    &    converted     & \\textbf{  R-squared:         } &      0.000    \\\\\n",
              "\\textbf{Model:}            &       OLS        & \\textbf{  Adj. R-squared:    } &      0.000    \\\\\n",
              "\\textbf{Method:}           &  Least Squares   & \\textbf{  F-statistic:       } &      54.32    \\\\\n",
              "\\textbf{Date:}             & Sun, 04 May 2025 & \\textbf{  Prob (F-statistic):} &   1.70e-13    \\\\\n",
              "\\textbf{Time:}             &     10:31:46     & \\textbf{  Log-Likelihood:    } &  2.5499e+05   \\\\\n",
              "\\textbf{No. Observations:} &      588101      & \\textbf{  AIC:               } &  -5.100e+05   \\\\\n",
              "\\textbf{Df Residuals:}     &      588099      & \\textbf{  BIC:               } &  -5.099e+05   \\\\\n",
              "\\textbf{Df Model:}         &           1      & \\textbf{                     } &               \\\\\n",
              "\\textbf{Covariance Type:}  &    nonrobust     & \\textbf{                     } &               \\\\\n",
              "\\bottomrule\n",
              "\\end{tabular}\n",
              "\\begin{tabular}{lcccccc}\n",
              "                   & \\textbf{coef} & \\textbf{std err} & \\textbf{t} & \\textbf{P$> |$t$|$} & \\textbf{[0.025} & \\textbf{0.975]}  \\\\\n",
              "\\midrule\n",
              "\\textbf{Intercept} &       0.0179  &        0.001     &    17.459  &         0.000        &        0.016    &        0.020     \\\\\n",
              "\\textbf{treatment} &       0.0077  &        0.001     &     7.370  &         0.000        &        0.006    &        0.010     \\\\\n",
              "\\bottomrule\n",
              "\\end{tabular}\n",
              "\\begin{tabular}{lclc}\n",
              "\\textbf{Omnibus:}       & 650946.201 & \\textbf{  Durbin-Watson:     } &      1.975    \\\\\n",
              "\\textbf{Prob(Omnibus):} &    0.000   & \\textbf{  Jarque-Bera (JB):  } & 32995692.936  \\\\\n",
              "\\textbf{Skew:}          &    6.053   & \\textbf{  Prob(JB):          } &       0.00    \\\\\n",
              "\\textbf{Kurtosis:}      &   37.641   & \\textbf{  Cond. No.          } &       9.90    \\\\\n",
              "\\bottomrule\n",
              "\\end{tabular}\n",
              "%\\caption{OLS Regression Results}\n",
              "\\end{center}\n",
              "\n",
              "Notes: \\newline\n",
              " [1] Standard Errors assume that the covariance matrix of the errors is correctly specified."
            ],
            "text/plain": [
              "<class 'statsmodels.iolib.summary.Summary'>\n",
              "\"\"\"\n",
              "                            OLS Regression Results                            \n",
              "==============================================================================\n",
              "Dep. Variable:              converted   R-squared:                       0.000\n",
              "Model:                            OLS   Adj. R-squared:                  0.000\n",
              "Method:                 Least Squares   F-statistic:                     54.32\n",
              "Date:                Sun, 04 May 2025   Prob (F-statistic):           1.70e-13\n",
              "Time:                        10:31:46   Log-Likelihood:             2.5499e+05\n",
              "No. Observations:              588101   AIC:                        -5.100e+05\n",
              "Df Residuals:                  588099   BIC:                        -5.099e+05\n",
              "Df Model:                           1                                         \n",
              "Covariance Type:            nonrobust                                         \n",
              "==============================================================================\n",
              "                 coef    std err          t      P>|t|      [0.025      0.975]\n",
              "------------------------------------------------------------------------------\n",
              "Intercept      0.0179      0.001     17.459      0.000       0.016       0.020\n",
              "treatment      0.0077      0.001      7.370      0.000       0.006       0.010\n",
              "==============================================================================\n",
              "Omnibus:                   650946.201   Durbin-Watson:                   1.975\n",
              "Prob(Omnibus):                  0.000   Jarque-Bera (JB):         32995692.936\n",
              "Skew:                           6.053   Prob(JB):                         0.00\n",
              "Kurtosis:                      37.641   Cond. No.                         9.90\n",
              "==============================================================================\n",
              "\n",
              "Notes:\n",
              "[1] Standard Errors assume that the covariance matrix of the errors is correctly specified.\n",
              "\"\"\""
            ]
          },
          "metadata": {},
          "output_type": "display_data"
        }
      ],
      "source": [
        "display(model1.summary())"
      ]
    },
    {
      "cell_type": "markdown",
      "metadata": {},
      "source": [
        "### ¿Cuánto de ese éxito podría atribuirse a los anuncios?"
      ]
    },
    {
      "cell_type": "markdown",
      "metadata": {},
      "source": [
        "El coeficiente de treatment en la regresión es 0.0077. Esto significa que, en promedio, estar en el grupo de tratamiento: **ver el anuncio** aumenta la probabilidad de conversión en 0.77 puntos porcentuales respecto al grupo de control. Este valor representa el efecto atribuible a los anuncios."
      ]
    },
    {
      "cell_type": "markdown",
      "metadata": {},
      "source": [
        "### ¿Qué puedes concluir de los resultados de la regresión?"
      ]
    },
    {
      "cell_type": "markdown",
      "metadata": {},
      "source": [
        "El efecto de los anuncios es positivo y estadísticamente significativo (p < 0.001). El valor del coeficiente indica que los anuncios tienen un impacto real, aunque pequeño, en la probabilidad de conversión.\n",
        "El intercepto (0.0179) indica la tasa de conversión base del grupo de control (1.79%).\n",
        "El R² es muy bajo (0.000), lo que es común en modelos de conversión binaria, pero no invalida la significancia del efecto estimado."
      ]
    },
    {
      "cell_type": "markdown",
      "metadata": {},
      "source": [
        "### ¿Cómo se comparan estos resultados con el test de diferencia de medias e intervalos de confianza que obtuvimos en el primer notebook de A/B Test?"
      ]
    },
    {
      "cell_type": "markdown",
      "metadata": {},
      "source": [
        "Los resultados de la regresión son idénticos a los obtenidos con el test de diferencia de medias en el primer notebook:\n",
        "El coeficiente de treatment en la regresión (0.0077) es exactamente igual a la diferencia de tasas de conversión entre los grupos experimental y de control (0.0255 - 0.0179 = 0.0076 ≈ 0.0077).\n",
        "El valor p es muy bajo (p < 0.001) en ambos métodos, indicando que la diferencia es estadísticamente significativa.\n",
        "El intervalo de confianza calculado en el primer notebook (0.0060 a 0.0094) contiene el valor estimado por la regresión y muestra que el efecto es positivo y significativo.\n",
        "La regresión y el test de diferencia de medias llegan a la misma conclusión: los anuncios aumentan la tasa de conversión en aproximadamente 0.8 puntos porcentuales.\n",
        "Esto ocurre porque, en este caso, la regresión simple y el test de diferencia de medias son matemáticamente equivalentes cuando la variable de tratamiento es binaria y la variable de resultado es también binaria."
      ]
    },
    {
      "cell_type": "markdown",
      "metadata": {
        "id": "FE-8ONS5VqXc"
      },
      "source": [
        "## Additive Regression Model\n",
        "\n",
        "1. Ahora corre el siguiente modelo de regresion aditivo. Asume que las covariables fueron recolectadas antes del experimento.\n",
        "\n",
        "$$\n",
        "\\text{converted} = \\beta_0 + \\beta_1 \\text{treatment} + \\beta_2 \\text{total ads} + \\beta_3 \\text{most ads day} + \\beta_4 \\text{most ads hour} + \\epsilon\n",
        "$$\n",
        "\n",
        "2. ¿Como cambian los resultados anteriores?"
      ]
    },
    {
      "cell_type": "code",
      "execution_count": 6,
      "metadata": {
        "id": "zOENlstxYu4c"
      },
      "outputs": [],
      "source": [
        "model2 = smf.ols('converted ~ treatment + total_ads + C(most_ads_day) + most_ads_hour', data=df).fit()"
      ]
    },
    {
      "cell_type": "code",
      "execution_count": 7,
      "metadata": {},
      "outputs": [
        {
          "data": {
            "text/html": [
              "<table class=\"simpletable\">\n",
              "<caption>OLS Regression Results</caption>\n",
              "<tr>\n",
              "  <th>Dep. Variable:</th>        <td>converted</td>    <th>  R-squared:         </th>  <td>   0.049</td> \n",
              "</tr>\n",
              "<tr>\n",
              "  <th>Model:</th>                   <td>OLS</td>       <th>  Adj. R-squared:    </th>  <td>   0.049</td> \n",
              "</tr>\n",
              "<tr>\n",
              "  <th>Method:</th>             <td>Least Squares</td>  <th>  F-statistic:       </th>  <td>   3339.</td> \n",
              "</tr>\n",
              "<tr>\n",
              "  <th>Date:</th>             <td>Sun, 04 May 2025</td> <th>  Prob (F-statistic):</th>   <td>  0.00</td>  \n",
              "</tr>\n",
              "<tr>\n",
              "  <th>Time:</th>                 <td>10:31:49</td>     <th>  Log-Likelihood:    </th> <td>2.6961e+05</td>\n",
              "</tr>\n",
              "<tr>\n",
              "  <th>No. Observations:</th>      <td>588101</td>      <th>  AIC:               </th> <td>-5.392e+05</td>\n",
              "</tr>\n",
              "<tr>\n",
              "  <th>Df Residuals:</th>          <td>588091</td>      <th>  BIC:               </th> <td>-5.391e+05</td>\n",
              "</tr>\n",
              "<tr>\n",
              "  <th>Df Model:</th>              <td>     9</td>      <th>                     </th>      <td> </td>    \n",
              "</tr>\n",
              "<tr>\n",
              "  <th>Covariance Type:</th>      <td>nonrobust</td>    <th>                     </th>      <td> </td>    \n",
              "</tr>\n",
              "</table>\n",
              "<table class=\"simpletable\">\n",
              "<tr>\n",
              "                <td></td>                  <th>coef</th>     <th>std err</th>      <th>t</th>      <th>P>|t|</th>  <th>[0.025</th>    <th>0.975]</th>  \n",
              "</tr>\n",
              "<tr>\n",
              "  <th>Intercept</th>                    <td>   -0.0165</td> <td>    0.001</td> <td>  -13.154</td> <td> 0.000</td> <td>   -0.019</td> <td>   -0.014</td>\n",
              "</tr>\n",
              "<tr>\n",
              "  <th>C(most_ads_day)[T.Monday]</th>    <td>    0.0117</td> <td>    0.001</td> <td>   16.144</td> <td> 0.000</td> <td>    0.010</td> <td>    0.013</td>\n",
              "</tr>\n",
              "<tr>\n",
              "  <th>C(most_ads_day)[T.Saturday]</th>  <td>   -0.0001</td> <td>    0.001</td> <td>   -0.175</td> <td> 0.861</td> <td>   -0.002</td> <td>    0.001</td>\n",
              "</tr>\n",
              "<tr>\n",
              "  <th>C(most_ads_day)[T.Sunday]</th>    <td>    0.0042</td> <td>    0.001</td> <td>    5.755</td> <td> 0.000</td> <td>    0.003</td> <td>    0.006</td>\n",
              "</tr>\n",
              "<tr>\n",
              "  <th>C(most_ads_day)[T.Thursday]</th>  <td>    0.0020</td> <td>    0.001</td> <td>    2.770</td> <td> 0.006</td> <td>    0.001</td> <td>    0.003</td>\n",
              "</tr>\n",
              "<tr>\n",
              "  <th>C(most_ads_day)[T.Tuesday]</th>   <td>    0.0102</td> <td>    0.001</td> <td>   13.660</td> <td> 0.000</td> <td>    0.009</td> <td>    0.012</td>\n",
              "</tr>\n",
              "<tr>\n",
              "  <th>C(most_ads_day)[T.Wednesday]</th> <td>    0.0047</td> <td>    0.001</td> <td>    6.333</td> <td> 0.000</td> <td>    0.003</td> <td>    0.006</td>\n",
              "</tr>\n",
              "<tr>\n",
              "  <th>treatment</th>                    <td>    0.0075</td> <td>    0.001</td> <td>    7.348</td> <td> 0.000</td> <td>    0.005</td> <td>    0.009</td>\n",
              "</tr>\n",
              "<tr>\n",
              "  <th>total_ads</th>                    <td>    0.0008</td> <td> 4.57e-06</td> <td>  171.208</td> <td> 0.000</td> <td>    0.001</td> <td>    0.001</td>\n",
              "</tr>\n",
              "<tr>\n",
              "  <th>most_ads_hour</th>                <td>    0.0007</td> <td> 4.13e-05</td> <td>   17.769</td> <td> 0.000</td> <td>    0.001</td> <td>    0.001</td>\n",
              "</tr>\n",
              "</table>\n",
              "<table class=\"simpletable\">\n",
              "<tr>\n",
              "  <th>Omnibus:</th>       <td>620785.367</td> <th>  Durbin-Watson:     </th>   <td>   1.993</td>  \n",
              "</tr>\n",
              "<tr>\n",
              "  <th>Prob(Omnibus):</th>   <td> 0.000</td>   <th>  Jarque-Bera (JB):  </th> <td>28559140.446</td>\n",
              "</tr>\n",
              "<tr>\n",
              "  <th>Skew:</th>            <td> 5.611</td>   <th>  Prob(JB):          </th>   <td>    0.00</td>  \n",
              "</tr>\n",
              "<tr>\n",
              "  <th>Kurtosis:</th>        <td>35.242</td>   <th>  Cond. No.          </th>   <td>    415.</td>  \n",
              "</tr>\n",
              "</table><br/><br/>Notes:<br/>[1] Standard Errors assume that the covariance matrix of the errors is correctly specified."
            ],
            "text/latex": [
              "\\begin{center}\n",
              "\\begin{tabular}{lclc}\n",
              "\\toprule\n",
              "\\textbf{Dep. Variable:}                 &    converted     & \\textbf{  R-squared:         } &      0.049    \\\\\n",
              "\\textbf{Model:}                         &       OLS        & \\textbf{  Adj. R-squared:    } &      0.049    \\\\\n",
              "\\textbf{Method:}                        &  Least Squares   & \\textbf{  F-statistic:       } &      3339.    \\\\\n",
              "\\textbf{Date:}                          & Sun, 04 May 2025 & \\textbf{  Prob (F-statistic):} &      0.00     \\\\\n",
              "\\textbf{Time:}                          &     10:31:49     & \\textbf{  Log-Likelihood:    } &  2.6961e+05   \\\\\n",
              "\\textbf{No. Observations:}              &      588101      & \\textbf{  AIC:               } &  -5.392e+05   \\\\\n",
              "\\textbf{Df Residuals:}                  &      588091      & \\textbf{  BIC:               } &  -5.391e+05   \\\\\n",
              "\\textbf{Df Model:}                      &           9      & \\textbf{                     } &               \\\\\n",
              "\\textbf{Covariance Type:}               &    nonrobust     & \\textbf{                     } &               \\\\\n",
              "\\bottomrule\n",
              "\\end{tabular}\n",
              "\\begin{tabular}{lcccccc}\n",
              "                                        & \\textbf{coef} & \\textbf{std err} & \\textbf{t} & \\textbf{P$> |$t$|$} & \\textbf{[0.025} & \\textbf{0.975]}  \\\\\n",
              "\\midrule\n",
              "\\textbf{Intercept}                      &      -0.0165  &        0.001     &   -13.154  &         0.000        &       -0.019    &       -0.014     \\\\\n",
              "\\textbf{C(most\\_ads\\_day)[T.Monday]}    &       0.0117  &        0.001     &    16.144  &         0.000        &        0.010    &        0.013     \\\\\n",
              "\\textbf{C(most\\_ads\\_day)[T.Saturday]}  &      -0.0001  &        0.001     &    -0.175  &         0.861        &       -0.002    &        0.001     \\\\\n",
              "\\textbf{C(most\\_ads\\_day)[T.Sunday]}    &       0.0042  &        0.001     &     5.755  &         0.000        &        0.003    &        0.006     \\\\\n",
              "\\textbf{C(most\\_ads\\_day)[T.Thursday]}  &       0.0020  &        0.001     &     2.770  &         0.006        &        0.001    &        0.003     \\\\\n",
              "\\textbf{C(most\\_ads\\_day)[T.Tuesday]}   &       0.0102  &        0.001     &    13.660  &         0.000        &        0.009    &        0.012     \\\\\n",
              "\\textbf{C(most\\_ads\\_day)[T.Wednesday]} &       0.0047  &        0.001     &     6.333  &         0.000        &        0.003    &        0.006     \\\\\n",
              "\\textbf{treatment}                      &       0.0075  &        0.001     &     7.348  &         0.000        &        0.005    &        0.009     \\\\\n",
              "\\textbf{total\\_ads}                     &       0.0008  &     4.57e-06     &   171.208  &         0.000        &        0.001    &        0.001     \\\\\n",
              "\\textbf{most\\_ads\\_hour}                &       0.0007  &     4.13e-05     &    17.769  &         0.000        &        0.001    &        0.001     \\\\\n",
              "\\bottomrule\n",
              "\\end{tabular}\n",
              "\\begin{tabular}{lclc}\n",
              "\\textbf{Omnibus:}       & 620785.367 & \\textbf{  Durbin-Watson:     } &      1.993    \\\\\n",
              "\\textbf{Prob(Omnibus):} &    0.000   & \\textbf{  Jarque-Bera (JB):  } & 28559140.446  \\\\\n",
              "\\textbf{Skew:}          &    5.611   & \\textbf{  Prob(JB):          } &       0.00    \\\\\n",
              "\\textbf{Kurtosis:}      &   35.242   & \\textbf{  Cond. No.          } &       415.    \\\\\n",
              "\\bottomrule\n",
              "\\end{tabular}\n",
              "%\\caption{OLS Regression Results}\n",
              "\\end{center}\n",
              "\n",
              "Notes: \\newline\n",
              " [1] Standard Errors assume that the covariance matrix of the errors is correctly specified."
            ],
            "text/plain": [
              "<class 'statsmodels.iolib.summary.Summary'>\n",
              "\"\"\"\n",
              "                            OLS Regression Results                            \n",
              "==============================================================================\n",
              "Dep. Variable:              converted   R-squared:                       0.049\n",
              "Model:                            OLS   Adj. R-squared:                  0.049\n",
              "Method:                 Least Squares   F-statistic:                     3339.\n",
              "Date:                Sun, 04 May 2025   Prob (F-statistic):               0.00\n",
              "Time:                        10:31:49   Log-Likelihood:             2.6961e+05\n",
              "No. Observations:              588101   AIC:                        -5.392e+05\n",
              "Df Residuals:                  588091   BIC:                        -5.391e+05\n",
              "Df Model:                           9                                         \n",
              "Covariance Type:            nonrobust                                         \n",
              "================================================================================================\n",
              "                                   coef    std err          t      P>|t|      [0.025      0.975]\n",
              "------------------------------------------------------------------------------------------------\n",
              "Intercept                       -0.0165      0.001    -13.154      0.000      -0.019      -0.014\n",
              "C(most_ads_day)[T.Monday]        0.0117      0.001     16.144      0.000       0.010       0.013\n",
              "C(most_ads_day)[T.Saturday]     -0.0001      0.001     -0.175      0.861      -0.002       0.001\n",
              "C(most_ads_day)[T.Sunday]        0.0042      0.001      5.755      0.000       0.003       0.006\n",
              "C(most_ads_day)[T.Thursday]      0.0020      0.001      2.770      0.006       0.001       0.003\n",
              "C(most_ads_day)[T.Tuesday]       0.0102      0.001     13.660      0.000       0.009       0.012\n",
              "C(most_ads_day)[T.Wednesday]     0.0047      0.001      6.333      0.000       0.003       0.006\n",
              "treatment                        0.0075      0.001      7.348      0.000       0.005       0.009\n",
              "total_ads                        0.0008   4.57e-06    171.208      0.000       0.001       0.001\n",
              "most_ads_hour                    0.0007   4.13e-05     17.769      0.000       0.001       0.001\n",
              "==============================================================================\n",
              "Omnibus:                   620785.367   Durbin-Watson:                   1.993\n",
              "Prob(Omnibus):                  0.000   Jarque-Bera (JB):         28559140.446\n",
              "Skew:                           5.611   Prob(JB):                         0.00\n",
              "Kurtosis:                      35.242   Cond. No.                         415.\n",
              "==============================================================================\n",
              "\n",
              "Notes:\n",
              "[1] Standard Errors assume that the covariance matrix of the errors is correctly specified.\n",
              "\"\"\""
            ]
          },
          "metadata": {},
          "output_type": "display_data"
        }
      ],
      "source": [
        "display(model2.summary())"
      ]
    },
    {
      "cell_type": "markdown",
      "metadata": {},
      "source": [
        "### Interpretación del modelo aditivo"
      ]
    },
    {
      "cell_type": "markdown",
      "metadata": {},
      "source": [
        "Esto significa que, controlando por el número total de anuncios, el día y la hora con más anuncios, estar en el grupo de tratamiento (ver el anuncio) aumenta la probabilidad de conversión en 0.75 puntos porcentuales respecto al grupo de control.\n",
        "El efecto sigue siendo positivo y estadísticamente significativo (p < 0.001).\n",
        "Otros coeficientes:\n",
        "total_ads y most_ads_hour también tienen efectos positivos y significativos sobre la probabilidad de conversión.\n",
        "Algunos días de la semana (most_ads_day) también muestran diferencias significativas respecto al día de referencia.\n",
        "Intercepto: -0.0165\n",
        "No tiene interpretación directa, ya que depende de la codificación de las variables categóricas.\n",
        "R²: 0.049\n",
        "El modelo ahora explica un 4.9% de la variabilidad en la conversión, lo que es una mejora respecto al modelo anterior (que tenía R² ≈ 0)."
      ]
    },
    {
      "cell_type": "markdown",
      "metadata": {},
      "source": [
        "### ¿Cómo cambian los resultados anteriores?"
      ]
    },
    {
      "cell_type": "markdown",
      "metadata": {},
      "source": [
        "Al incluir las variables (total_ads, most_ads_day, most_ads_hour), el coeficiente de treatment disminuye ligeramente de 0.0077 a 0.0075, pero sigue siendo positivo y altamente significativo.\n",
        "Esto indica que el efecto de los anuncios sobre la conversión se mantiene incluso después de controlar por otras variables que podrían influir en la probabilidad de conversión. Además, el modelo aditivo explica una mayor proporción de la variabilidad en la conversión (R² = 0.049), lo que sugiere que las variables incluidas aportan información relevante para predecir la conversión. En resumen, los resultados son consistentes con el modelo simple: los anuncios tienen un efecto positivo y significativo, y este efecto es robusto al controlar por otras características de los usuarios."
      ]
    },
    {
      "cell_type": "markdown",
      "metadata": {
        "id": "KICBzEvJVqXe"
      },
      "source": [
        "## Interactive Regression Model\n",
        "\n",
        "1. Ahora corre el siguiente modelo de regresion interactivo.\n",
        "\n",
        "$$\n",
        "\\text{converted} = \\beta_0 + \\beta_1 \\text{treatment} + \\beta_2 \\text{treatment} \\times \\text{total ads} + \\beta_3 \\text{treatment} \\times \\text{most ads day} + \\beta_4 \\text{treatment} \\times \\text{most ads hour} + \\epsilon\n",
        "$$\n",
        "\n",
        "2. ¿Existen mejoras en la precision con respecto a los resultados del modelo aditivo?"
      ]
    },
    {
      "cell_type": "code",
      "execution_count": 8,
      "metadata": {
        "id": "w-yTZ7WgVqXf"
      },
      "outputs": [],
      "source": [
        "model3 = smf.ols('converted ~ treatment * (total_ads + C(most_ads_day) + most_ads_hour)', data=df).fit()"
      ]
    },
    {
      "cell_type": "code",
      "execution_count": 9,
      "metadata": {},
      "outputs": [
        {
          "data": {
            "text/html": [
              "<table class=\"simpletable\">\n",
              "<caption>OLS Regression Results</caption>\n",
              "<tr>\n",
              "  <th>Dep. Variable:</th>        <td>converted</td>    <th>  R-squared:         </th>  <td>   0.049</td> \n",
              "</tr>\n",
              "<tr>\n",
              "  <th>Model:</th>                   <td>OLS</td>       <th>  Adj. R-squared:    </th>  <td>   0.049</td> \n",
              "</tr>\n",
              "<tr>\n",
              "  <th>Method:</th>             <td>Least Squares</td>  <th>  F-statistic:       </th>  <td>   1773.</td> \n",
              "</tr>\n",
              "<tr>\n",
              "  <th>Date:</th>             <td>Sun, 04 May 2025</td> <th>  Prob (F-statistic):</th>   <td>  0.00</td>  \n",
              "</tr>\n",
              "<tr>\n",
              "  <th>Time:</th>                 <td>10:31:52</td>     <th>  Log-Likelihood:    </th> <td>2.6966e+05</td>\n",
              "</tr>\n",
              "<tr>\n",
              "  <th>No. Observations:</th>      <td>588101</td>      <th>  AIC:               </th> <td>-5.393e+05</td>\n",
              "</tr>\n",
              "<tr>\n",
              "  <th>Df Residuals:</th>          <td>588083</td>      <th>  BIC:               </th> <td>-5.391e+05</td>\n",
              "</tr>\n",
              "<tr>\n",
              "  <th>Df Model:</th>              <td>    17</td>      <th>                     </th>      <td> </td>    \n",
              "</tr>\n",
              "<tr>\n",
              "  <th>Covariance Type:</th>      <td>nonrobust</td>    <th>                     </th>      <td> </td>    \n",
              "</tr>\n",
              "</table>\n",
              "<table class=\"simpletable\">\n",
              "<tr>\n",
              "                     <td></td>                       <th>coef</th>     <th>std err</th>      <th>t</th>      <th>P>|t|</th>  <th>[0.025</th>    <th>0.975]</th>  \n",
              "</tr>\n",
              "<tr>\n",
              "  <th>Intercept</th>                              <td>   -0.0106</td> <td>    0.004</td> <td>   -2.673</td> <td> 0.008</td> <td>   -0.018</td> <td>   -0.003</td>\n",
              "</tr>\n",
              "<tr>\n",
              "  <th>C(most_ads_day)[T.Monday]</th>              <td>    0.0067</td> <td>    0.004</td> <td>    1.883</td> <td> 0.060</td> <td>   -0.000</td> <td>    0.014</td>\n",
              "</tr>\n",
              "<tr>\n",
              "  <th>C(most_ads_day)[T.Saturday]</th>            <td>   -0.0042</td> <td>    0.004</td> <td>   -1.104</td> <td> 0.270</td> <td>   -0.012</td> <td>    0.003</td>\n",
              "</tr>\n",
              "<tr>\n",
              "  <th>C(most_ads_day)[T.Sunday]</th>              <td>    0.0038</td> <td>    0.004</td> <td>    1.029</td> <td> 0.303</td> <td>   -0.003</td> <td>    0.011</td>\n",
              "</tr>\n",
              "<tr>\n",
              "  <th>C(most_ads_day)[T.Thursday]</th>            <td>    0.0029</td> <td>    0.003</td> <td>    0.823</td> <td> 0.410</td> <td>   -0.004</td> <td>    0.010</td>\n",
              "</tr>\n",
              "<tr>\n",
              "  <th>C(most_ads_day)[T.Tuesday]</th>             <td>    0.0007</td> <td>    0.004</td> <td>    0.187</td> <td> 0.852</td> <td>   -0.007</td> <td>    0.008</td>\n",
              "</tr>\n",
              "<tr>\n",
              "  <th>C(most_ads_day)[T.Wednesday]</th>           <td>   -0.0001</td> <td>    0.004</td> <td>   -0.040</td> <td> 0.968</td> <td>   -0.007</td> <td>    0.007</td>\n",
              "</tr>\n",
              "<tr>\n",
              "  <th>treatment</th>                              <td>    0.0013</td> <td>    0.004</td> <td>    0.317</td> <td> 0.751</td> <td>   -0.007</td> <td>    0.009</td>\n",
              "</tr>\n",
              "<tr>\n",
              "  <th>treatment:C(most_ads_day)[T.Monday]</th>    <td>    0.0051</td> <td>    0.004</td> <td>    1.400</td> <td> 0.162</td> <td>   -0.002</td> <td>    0.012</td>\n",
              "</tr>\n",
              "<tr>\n",
              "  <th>treatment:C(most_ads_day)[T.Saturday]</th>  <td>    0.0043</td> <td>    0.004</td> <td>    1.102</td> <td> 0.270</td> <td>   -0.003</td> <td>    0.012</td>\n",
              "</tr>\n",
              "<tr>\n",
              "  <th>treatment:C(most_ads_day)[T.Sunday]</th>    <td>    0.0004</td> <td>    0.004</td> <td>    0.106</td> <td> 0.916</td> <td>   -0.007</td> <td>    0.008</td>\n",
              "</tr>\n",
              "<tr>\n",
              "  <th>treatment:C(most_ads_day)[T.Thursday]</th>  <td>   -0.0009</td> <td>    0.004</td> <td>   -0.241</td> <td> 0.809</td> <td>   -0.008</td> <td>    0.006</td>\n",
              "</tr>\n",
              "<tr>\n",
              "  <th>treatment:C(most_ads_day)[T.Tuesday]</th>   <td>    0.0099</td> <td>    0.004</td> <td>    2.561</td> <td> 0.010</td> <td>    0.002</td> <td>    0.017</td>\n",
              "</tr>\n",
              "<tr>\n",
              "  <th>treatment:C(most_ads_day)[T.Wednesday]</th> <td>    0.0050</td> <td>    0.004</td> <td>    1.366</td> <td> 0.172</td> <td>   -0.002</td> <td>    0.012</td>\n",
              "</tr>\n",
              "<tr>\n",
              "  <th>total_ads</th>                              <td>    0.0006</td> <td> 2.33e-05</td> <td>   24.487</td> <td> 0.000</td> <td>    0.001</td> <td>    0.001</td>\n",
              "</tr>\n",
              "<tr>\n",
              "  <th>most_ads_hour</th>                          <td>    0.0009</td> <td>    0.000</td> <td>    4.168</td> <td> 0.000</td> <td>    0.000</td> <td>    0.001</td>\n",
              "</tr>\n",
              "<tr>\n",
              "  <th>treatment:total_ads</th>                    <td>    0.0002</td> <td> 2.38e-05</td> <td>    9.235</td> <td> 0.000</td> <td>    0.000</td> <td>    0.000</td>\n",
              "</tr>\n",
              "<tr>\n",
              "  <th>treatment:most_ads_hour</th>                <td>   -0.0002</td> <td>    0.000</td> <td>   -0.763</td> <td> 0.445</td> <td>   -0.001</td> <td>    0.000</td>\n",
              "</tr>\n",
              "</table>\n",
              "<table class=\"simpletable\">\n",
              "<tr>\n",
              "  <th>Omnibus:</th>       <td>620685.937</td> <th>  Durbin-Watson:     </th>   <td>   1.993</td>  \n",
              "</tr>\n",
              "<tr>\n",
              "  <th>Prob(Omnibus):</th>   <td> 0.000</td>   <th>  Jarque-Bera (JB):  </th> <td>28560591.619</td>\n",
              "</tr>\n",
              "<tr>\n",
              "  <th>Skew:</th>            <td> 5.609</td>   <th>  Prob(JB):          </th>   <td>    0.00</td>  \n",
              "</tr>\n",
              "<tr>\n",
              "  <th>Kurtosis:</th>        <td>35.244</td>   <th>  Cond. No.          </th>   <td>3.59e+03</td>  \n",
              "</tr>\n",
              "</table><br/><br/>Notes:<br/>[1] Standard Errors assume that the covariance matrix of the errors is correctly specified.<br/>[2] The condition number is large, 3.59e+03. This might indicate that there are<br/>strong multicollinearity or other numerical problems."
            ],
            "text/latex": [
              "\\begin{center}\n",
              "\\begin{tabular}{lclc}\n",
              "\\toprule\n",
              "\\textbf{Dep. Variable:}                           &    converted     & \\textbf{  R-squared:         } &      0.049    \\\\\n",
              "\\textbf{Model:}                                   &       OLS        & \\textbf{  Adj. R-squared:    } &      0.049    \\\\\n",
              "\\textbf{Method:}                                  &  Least Squares   & \\textbf{  F-statistic:       } &      1773.    \\\\\n",
              "\\textbf{Date:}                                    & Sun, 04 May 2025 & \\textbf{  Prob (F-statistic):} &      0.00     \\\\\n",
              "\\textbf{Time:}                                    &     10:31:52     & \\textbf{  Log-Likelihood:    } &  2.6966e+05   \\\\\n",
              "\\textbf{No. Observations:}                        &      588101      & \\textbf{  AIC:               } &  -5.393e+05   \\\\\n",
              "\\textbf{Df Residuals:}                            &      588083      & \\textbf{  BIC:               } &  -5.391e+05   \\\\\n",
              "\\textbf{Df Model:}                                &          17      & \\textbf{                     } &               \\\\\n",
              "\\textbf{Covariance Type:}                         &    nonrobust     & \\textbf{                     } &               \\\\\n",
              "\\bottomrule\n",
              "\\end{tabular}\n",
              "\\begin{tabular}{lcccccc}\n",
              "                                                  & \\textbf{coef} & \\textbf{std err} & \\textbf{t} & \\textbf{P$> |$t$|$} & \\textbf{[0.025} & \\textbf{0.975]}  \\\\\n",
              "\\midrule\n",
              "\\textbf{Intercept}                                &      -0.0106  &        0.004     &    -2.673  &         0.008        &       -0.018    &       -0.003     \\\\\n",
              "\\textbf{C(most\\_ads\\_day)[T.Monday]}              &       0.0067  &        0.004     &     1.883  &         0.060        &       -0.000    &        0.014     \\\\\n",
              "\\textbf{C(most\\_ads\\_day)[T.Saturday]}            &      -0.0042  &        0.004     &    -1.104  &         0.270        &       -0.012    &        0.003     \\\\\n",
              "\\textbf{C(most\\_ads\\_day)[T.Sunday]}              &       0.0038  &        0.004     &     1.029  &         0.303        &       -0.003    &        0.011     \\\\\n",
              "\\textbf{C(most\\_ads\\_day)[T.Thursday]}            &       0.0029  &        0.003     &     0.823  &         0.410        &       -0.004    &        0.010     \\\\\n",
              "\\textbf{C(most\\_ads\\_day)[T.Tuesday]}             &       0.0007  &        0.004     &     0.187  &         0.852        &       -0.007    &        0.008     \\\\\n",
              "\\textbf{C(most\\_ads\\_day)[T.Wednesday]}           &      -0.0001  &        0.004     &    -0.040  &         0.968        &       -0.007    &        0.007     \\\\\n",
              "\\textbf{treatment}                                &       0.0013  &        0.004     &     0.317  &         0.751        &       -0.007    &        0.009     \\\\\n",
              "\\textbf{treatment:C(most\\_ads\\_day)[T.Monday]}    &       0.0051  &        0.004     &     1.400  &         0.162        &       -0.002    &        0.012     \\\\\n",
              "\\textbf{treatment:C(most\\_ads\\_day)[T.Saturday]}  &       0.0043  &        0.004     &     1.102  &         0.270        &       -0.003    &        0.012     \\\\\n",
              "\\textbf{treatment:C(most\\_ads\\_day)[T.Sunday]}    &       0.0004  &        0.004     &     0.106  &         0.916        &       -0.007    &        0.008     \\\\\n",
              "\\textbf{treatment:C(most\\_ads\\_day)[T.Thursday]}  &      -0.0009  &        0.004     &    -0.241  &         0.809        &       -0.008    &        0.006     \\\\\n",
              "\\textbf{treatment:C(most\\_ads\\_day)[T.Tuesday]}   &       0.0099  &        0.004     &     2.561  &         0.010        &        0.002    &        0.017     \\\\\n",
              "\\textbf{treatment:C(most\\_ads\\_day)[T.Wednesday]} &       0.0050  &        0.004     &     1.366  &         0.172        &       -0.002    &        0.012     \\\\\n",
              "\\textbf{total\\_ads}                               &       0.0006  &     2.33e-05     &    24.487  &         0.000        &        0.001    &        0.001     \\\\\n",
              "\\textbf{most\\_ads\\_hour}                          &       0.0009  &        0.000     &     4.168  &         0.000        &        0.000    &        0.001     \\\\\n",
              "\\textbf{treatment:total\\_ads}                     &       0.0002  &     2.38e-05     &     9.235  &         0.000        &        0.000    &        0.000     \\\\\n",
              "\\textbf{treatment:most\\_ads\\_hour}                &      -0.0002  &        0.000     &    -0.763  &         0.445        &       -0.001    &        0.000     \\\\\n",
              "\\bottomrule\n",
              "\\end{tabular}\n",
              "\\begin{tabular}{lclc}\n",
              "\\textbf{Omnibus:}       & 620685.937 & \\textbf{  Durbin-Watson:     } &      1.993    \\\\\n",
              "\\textbf{Prob(Omnibus):} &    0.000   & \\textbf{  Jarque-Bera (JB):  } & 28560591.619  \\\\\n",
              "\\textbf{Skew:}          &    5.609   & \\textbf{  Prob(JB):          } &       0.00    \\\\\n",
              "\\textbf{Kurtosis:}      &   35.244   & \\textbf{  Cond. No.          } &   3.59e+03    \\\\\n",
              "\\bottomrule\n",
              "\\end{tabular}\n",
              "%\\caption{OLS Regression Results}\n",
              "\\end{center}\n",
              "\n",
              "Notes: \\newline\n",
              " [1] Standard Errors assume that the covariance matrix of the errors is correctly specified. \\newline\n",
              " [2] The condition number is large, 3.59e+03. This might indicate that there are \\newline\n",
              " strong multicollinearity or other numerical problems."
            ],
            "text/plain": [
              "<class 'statsmodels.iolib.summary.Summary'>\n",
              "\"\"\"\n",
              "                            OLS Regression Results                            \n",
              "==============================================================================\n",
              "Dep. Variable:              converted   R-squared:                       0.049\n",
              "Model:                            OLS   Adj. R-squared:                  0.049\n",
              "Method:                 Least Squares   F-statistic:                     1773.\n",
              "Date:                Sun, 04 May 2025   Prob (F-statistic):               0.00\n",
              "Time:                        10:31:52   Log-Likelihood:             2.6966e+05\n",
              "No. Observations:              588101   AIC:                        -5.393e+05\n",
              "Df Residuals:                  588083   BIC:                        -5.391e+05\n",
              "Df Model:                          17                                         \n",
              "Covariance Type:            nonrobust                                         \n",
              "==========================================================================================================\n",
              "                                             coef    std err          t      P>|t|      [0.025      0.975]\n",
              "----------------------------------------------------------------------------------------------------------\n",
              "Intercept                                 -0.0106      0.004     -2.673      0.008      -0.018      -0.003\n",
              "C(most_ads_day)[T.Monday]                  0.0067      0.004      1.883      0.060      -0.000       0.014\n",
              "C(most_ads_day)[T.Saturday]               -0.0042      0.004     -1.104      0.270      -0.012       0.003\n",
              "C(most_ads_day)[T.Sunday]                  0.0038      0.004      1.029      0.303      -0.003       0.011\n",
              "C(most_ads_day)[T.Thursday]                0.0029      0.003      0.823      0.410      -0.004       0.010\n",
              "C(most_ads_day)[T.Tuesday]                 0.0007      0.004      0.187      0.852      -0.007       0.008\n",
              "C(most_ads_day)[T.Wednesday]              -0.0001      0.004     -0.040      0.968      -0.007       0.007\n",
              "treatment                                  0.0013      0.004      0.317      0.751      -0.007       0.009\n",
              "treatment:C(most_ads_day)[T.Monday]        0.0051      0.004      1.400      0.162      -0.002       0.012\n",
              "treatment:C(most_ads_day)[T.Saturday]      0.0043      0.004      1.102      0.270      -0.003       0.012\n",
              "treatment:C(most_ads_day)[T.Sunday]        0.0004      0.004      0.106      0.916      -0.007       0.008\n",
              "treatment:C(most_ads_day)[T.Thursday]     -0.0009      0.004     -0.241      0.809      -0.008       0.006\n",
              "treatment:C(most_ads_day)[T.Tuesday]       0.0099      0.004      2.561      0.010       0.002       0.017\n",
              "treatment:C(most_ads_day)[T.Wednesday]     0.0050      0.004      1.366      0.172      -0.002       0.012\n",
              "total_ads                                  0.0006   2.33e-05     24.487      0.000       0.001       0.001\n",
              "most_ads_hour                              0.0009      0.000      4.168      0.000       0.000       0.001\n",
              "treatment:total_ads                        0.0002   2.38e-05      9.235      0.000       0.000       0.000\n",
              "treatment:most_ads_hour                   -0.0002      0.000     -0.763      0.445      -0.001       0.000\n",
              "==============================================================================\n",
              "Omnibus:                   620685.937   Durbin-Watson:                   1.993\n",
              "Prob(Omnibus):                  0.000   Jarque-Bera (JB):         28560591.619\n",
              "Skew:                           5.609   Prob(JB):                         0.00\n",
              "Kurtosis:                      35.244   Cond. No.                     3.59e+03\n",
              "==============================================================================\n",
              "\n",
              "Notes:\n",
              "[1] Standard Errors assume that the covariance matrix of the errors is correctly specified.\n",
              "[2] The condition number is large, 3.59e+03. This might indicate that there are\n",
              "strong multicollinearity or other numerical problems.\n",
              "\"\"\""
            ]
          },
          "metadata": {},
          "output_type": "display_data"
        }
      ],
      "source": [
        "display(model3.summary())"
      ]
    },
    {
      "cell_type": "markdown",
      "metadata": {},
      "source": [
        "### Interpretación del modelo interactivo:"
      ]
    },
    {
      "cell_type": "markdown",
      "metadata": {},
      "source": [
        "* R²: El valor de R² se mantiene en 0.049, igual que en el modelo aditivo. Esto indica que no hay una mejora sustancial en la capacidad explicativa global del modelo al incluir las interacciones.\n",
        "* Interacciones:\n",
        "  * Algunas interacciones, como treatment:total_ads (coef = 0.0002, p < 0.001) y treatment:C(most_ads_day)[T.Tuesday] (coef = 0.0099, p = 0.01), son estadísticamente significativas. Esto sugiere que el efecto del tratamiento puede variar dependiendo del número de anuncios vistos y del día de la semana.\n",
        "* Coeficiente principal de treatment:\n",
        "  * El coeficiente de treatment por sí solo ya no es significativo (coef = 0.0013, p = 0.751), porque ahora el efecto del tratamiento depende de las interacciones con las otras variables."
      ]
    },
    {
      "cell_type": "markdown",
      "metadata": {},
      "source": [
        "### ¿Existen mejoras en la precision con respecto a los resultados del modelo aditivo?"
      ]
    },
    {
      "cell_type": "markdown",
      "metadata": {},
      "source": [
        "Al incluir las interacciones entre el tratamiento y las variables (total_ads, most_ads_day, most_ads_hour), no se observa una mejora en la precisión global del modelo es decir, el R² se mantiene en 0.049, igual que en el modelo aditivo. Sin embargo, el coeficiente **treatment** no es estadísticamente significativo."
      ]
    }
  ],
  "metadata": {
    "colab": {
      "include_colab_link": true,
      "provenance": []
    },
    "kernelspec": {
      "display_name": "ab_test_project_venv",
      "language": "python",
      "name": "python3"
    },
    "language_info": {
      "codemirror_mode": {
        "name": "ipython",
        "version": 3
      },
      "file_extension": ".py",
      "mimetype": "text/x-python",
      "name": "python",
      "nbconvert_exporter": "python",
      "pygments_lexer": "ipython3",
      "version": "3.11.5"
    }
  },
  "nbformat": 4,
  "nbformat_minor": 0
}
